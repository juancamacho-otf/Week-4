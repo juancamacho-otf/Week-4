{
 "cells": [
  {
   "cell_type": "markdown",
   "id": "0f93153a",
   "metadata": {},
   "source": [
    "# Automatic Record Merge in HubSpot"
   ]
  },
  {
   "cell_type": "markdown",
   "id": "af93df84",
   "metadata": {},
   "source": [
    "Nosotros realizamos un merge automatico de registros en HubSpot mediante la implementación de la herramienta de \"Merge records\" de HubSpot, por lo cual el merge se rige bajo las siguientes normas:"
   ]
  },
  {
   "cell_type": "markdown",
   "id": "8fd83553",
   "metadata": {},
   "source": [
    "**Doc:** https://knowledge.hubspot.com/crm-setup/merge-records"
   ]
  },
  {
   "cell_type": "markdown",
   "id": "6ac17e9a",
   "metadata": {},
   "source": [
    "Esta implementación de la herramienta de HubSpot la realizamo a traves de la API."
   ]
  },
  {
   "cell_type": "markdown",
   "id": "8fe97a75",
   "metadata": {},
   "source": [
    "Este codigo trabaja haciendo uso del \"Key\" de los duplicados que obtenemos despues de implementar las funciones de encontrar duplicados."
   ]
  },
  {
   "cell_type": "markdown",
   "id": "ac633924-6bb3-4019-9347-e9acb8cf642a",
   "metadata": {
    "tags": []
   },
   "source": [
    "# Set environment variables"
   ]
  },
  {
   "cell_type": "code",
   "execution_count": 1,
   "id": "0bb40f21-1792-4ee4-adb9-9246d392483a",
   "metadata": {},
   "outputs": [],
   "source": [
    "import os"
   ]
  },
  {
   "cell_type": "code",
   "execution_count": 2,
   "id": "67d91eb3-7b64-4572-b476-eb07ec44784d",
   "metadata": {
    "tags": []
   },
   "outputs": [],
   "source": [
    "os.environ[\"path\"] = r'C:\\Users\\Admin\\Documents\\GitHub\\Operational-Library-For-Data-Engineers'\n",
    "os.environ[\"access_token\"] = ''\n",
    "os.environ[\"records_object_type\"] = 'contacts'\n",
    "os.environ[\"file_path\"] = r'C:\\Users\\Admin\\Desktop\\85ztypmvx - Fit City Adventures - Contact Clean Up - Support - 1398'\n",
    "os.environ[\"file_name\"] = 'Duplicate Contacts Records Found.xlsx - Sheet1.csv'"
   ]
  },
  {
   "cell_type": "markdown",
   "id": "9194719c",
   "metadata": {},
   "source": [
    "## Libraries"
   ]
  },
  {
   "cell_type": "code",
   "execution_count": 3,
   "id": "757fe719",
   "metadata": {},
   "outputs": [],
   "source": [
    "import requests\n",
    "import json\n",
    "\n",
    "import pandas as pd\n",
    "import numpy as np\n",
    "\n",
    "from IPython.display import Markdown, display\n",
    "def printmd(string):\n",
    "    display(Markdown(string))\n",
    "\n",
    "from IPython.display import display, HTML, clear_output"
   ]
  },
  {
   "cell_type": "markdown",
   "id": "d761186b",
   "metadata": {},
   "source": [
    "#### Data team library"
   ]
  },
  {
   "cell_type": "markdown",
   "id": "47ab752d",
   "metadata": {},
   "source": [
    "Your library path"
   ]
  },
  {
   "cell_type": "code",
   "execution_count": 4,
   "id": "7ba85b9d",
   "metadata": {},
   "outputs": [],
   "source": [
    "path = os.getenv('path')"
   ]
  },
  {
   "cell_type": "code",
   "execution_count": 5,
   "id": "4a9c84ba",
   "metadata": {},
   "outputs": [],
   "source": [
    "import sys\n",
    "sys.path.insert(0,path)\n",
    "\n",
    "from data_tranfromations.delte_unnecessary_blank_spaces import delte_unnecessary_blank_spaces"
   ]
  },
  {
   "cell_type": "markdown",
   "id": "5dc7083b",
   "metadata": {},
   "source": [
    "## Parameters - Input Values"
   ]
  },
  {
   "cell_type": "markdown",
   "id": "06e4febe",
   "metadata": {},
   "source": [
    "#### Access API"
   ]
  },
  {
   "cell_type": "code",
   "execution_count": 6,
   "id": "3e13d86c",
   "metadata": {},
   "outputs": [],
   "source": [
    "access_token = os.getenv('access_token') # Input\n",
    "\n",
    "headers = {'Content-Type': 'application/json',\n",
    "            'authorization': 'Bearer {}'.format(access_token)}"
   ]
  },
  {
   "cell_type": "markdown",
   "id": "f4a3d505",
   "metadata": {},
   "source": [
    "#### Info Records"
   ]
  },
  {
   "cell_type": "code",
   "execution_count": 7,
   "id": "e899bf2c",
   "metadata": {},
   "outputs": [],
   "source": [
    "records_object_type = os.getenv('records_object_type')"
   ]
  },
  {
   "cell_type": "markdown",
   "id": "4dc53e18",
   "metadata": {},
   "source": [
    "#### Frame"
   ]
  },
  {
   "cell_type": "code",
   "execution_count": 8,
   "id": "6f99e56d",
   "metadata": {},
   "outputs": [],
   "source": [
    "file_path = os.getenv('file_path')"
   ]
  },
  {
   "cell_type": "code",
   "execution_count": 9,
   "id": "e6ef8568-ab83-49f3-82b4-7f6fea7abf5b",
   "metadata": {},
   "outputs": [],
   "source": [
    "file_name = os.getenv('file_name')"
   ]
  },
  {
   "cell_type": "code",
   "execution_count": 10,
   "id": "703504a3",
   "metadata": {},
   "outputs": [],
   "source": [
    "df = pd.read_csv(file_path+'\\\\'+file_name)"
   ]
  },
  {
   "cell_type": "code",
   "execution_count": 11,
   "id": "200a5067",
   "metadata": {},
   "outputs": [],
   "source": [
    "df = df.replace(np.nan, '')"
   ]
  },
  {
   "cell_type": "code",
   "execution_count": 12,
   "id": "1fdabb1c",
   "metadata": {},
   "outputs": [
    {
     "data": {
      "text/markdown": [
       "<h3><span style='color:blue'>You will work with 85 records</span></h3>"
      ],
      "text/plain": [
       "<IPython.core.display.Markdown object>"
      ]
     },
     "metadata": {},
     "output_type": "display_data"
    }
   ],
   "source": [
    "printmd(\"<h3><span style='color:blue'>You will work with {} records</span></h3>\".format(len(df)))"
   ]
  },
  {
   "cell_type": "code",
   "execution_count": 13,
   "id": "14a464b4",
   "metadata": {},
   "outputs": [
    {
     "data": {
      "text/html": [
       "<div>\n",
       "<style scoped>\n",
       "    .dataframe tbody tr th:only-of-type {\n",
       "        vertical-align: middle;\n",
       "    }\n",
       "\n",
       "    .dataframe tbody tr th {\n",
       "        vertical-align: top;\n",
       "    }\n",
       "\n",
       "    .dataframe thead th {\n",
       "        text-align: right;\n",
       "    }\n",
       "</style>\n",
       "<table border=\"1\" class=\"dataframe\">\n",
       "  <thead>\n",
       "    <tr style=\"text-align: right;\">\n",
       "      <th></th>\n",
       "      <th>Record ID</th>\n",
       "      <th>First Name</th>\n",
       "      <th>Last Name</th>\n",
       "      <th>Phone Number</th>\n",
       "      <th>Email</th>\n",
       "      <th>Street Address</th>\n",
       "      <th>Associated Company</th>\n",
       "      <th>Record View</th>\n",
       "      <th>Key</th>\n",
       "    </tr>\n",
       "  </thead>\n",
       "  <tbody>\n",
       "    <tr>\n",
       "      <th>0</th>\n",
       "      <td>1926602</td>\n",
       "      <td>Aimee</td>\n",
       "      <td>Caulk</td>\n",
       "      <td></td>\n",
       "      <td>acaulk@destinationhotels.com</td>\n",
       "      <td></td>\n",
       "      <td>destinationhotels</td>\n",
       "      <td>https://app.hubspot.com/contacts/8062547/recor...</td>\n",
       "      <td>aimeecaulkdestinationhotels</td>\n",
       "    </tr>\n",
       "    <tr>\n",
       "      <th>1</th>\n",
       "      <td>2052853</td>\n",
       "      <td>Aimee</td>\n",
       "      <td>Caulk</td>\n",
       "      <td>(480) 894-1400</td>\n",
       "      <td>aimee.caulk@destinationhotels.com</td>\n",
       "      <td>Southeast Valley</td>\n",
       "      <td>destinationhotels</td>\n",
       "      <td>https://app.hubspot.com/contacts/8062547/recor...</td>\n",
       "      <td>aimeecaulkdestinationhotels</td>\n",
       "    </tr>\n",
       "    <tr>\n",
       "      <th>2</th>\n",
       "      <td>1681301</td>\n",
       "      <td>Ashley</td>\n",
       "      <td>Murdock</td>\n",
       "      <td>323-717-2908</td>\n",
       "      <td>ashleymurdock@successfulinpink.com</td>\n",
       "      <td></td>\n",
       "      <td>Successful in Pink LLC</td>\n",
       "      <td>https://app.hubspot.com/contacts/8062547/recor...</td>\n",
       "      <td>ashleymurdocksuccessfulinpink</td>\n",
       "    </tr>\n",
       "    <tr>\n",
       "      <th>3</th>\n",
       "      <td>1757351</td>\n",
       "      <td>Ashley</td>\n",
       "      <td>Murdock</td>\n",
       "      <td></td>\n",
       "      <td>ashley@successfulinpink.com</td>\n",
       "      <td></td>\n",
       "      <td>Successful in Pink LLC</td>\n",
       "      <td>https://app.hubspot.com/contacts/8062547/recor...</td>\n",
       "      <td>ashleymurdocksuccessfulinpink</td>\n",
       "    </tr>\n",
       "    <tr>\n",
       "      <th>4</th>\n",
       "      <td>120109</td>\n",
       "      <td>Castel</td>\n",
       "      <td>Valere‐Couturier</td>\n",
       "      <td></td>\n",
       "      <td>cvalerecouturier@soundoffexperience.com</td>\n",
       "      <td></td>\n",
       "      <td>Sound Off</td>\n",
       "      <td>https://app.hubspot.com/contacts/8062547/recor...</td>\n",
       "      <td>castelvalerecouturiersoundoff</td>\n",
       "    </tr>\n",
       "  </tbody>\n",
       "</table>\n",
       "</div>"
      ],
      "text/plain": [
       "   Record ID First Name         Last Name    Phone Number  \\\n",
       "0    1926602      Aimee             Caulk                   \n",
       "1    2052853      Aimee             Caulk  (480) 894-1400   \n",
       "2    1681301     Ashley           Murdock    323-717-2908   \n",
       "3    1757351     Ashley           Murdock                   \n",
       "4     120109     Castel  Valere‐Couturier                   \n",
       "\n",
       "                                     Email    Street Address  \\\n",
       "0             acaulk@destinationhotels.com                     \n",
       "1        aimee.caulk@destinationhotels.com  Southeast Valley   \n",
       "2       ashleymurdock@successfulinpink.com                     \n",
       "3              ashley@successfulinpink.com                     \n",
       "4  cvalerecouturier@soundoffexperience.com                     \n",
       "\n",
       "       Associated Company                                        Record View  \\\n",
       "0       destinationhotels  https://app.hubspot.com/contacts/8062547/recor...   \n",
       "1       destinationhotels  https://app.hubspot.com/contacts/8062547/recor...   \n",
       "2  Successful in Pink LLC  https://app.hubspot.com/contacts/8062547/recor...   \n",
       "3  Successful in Pink LLC  https://app.hubspot.com/contacts/8062547/recor...   \n",
       "4               Sound Off  https://app.hubspot.com/contacts/8062547/recor...   \n",
       "\n",
       "                             Key  \n",
       "0    aimeecaulkdestinationhotels  \n",
       "1    aimeecaulkdestinationhotels  \n",
       "2  ashleymurdocksuccessfulinpink  \n",
       "3  ashleymurdocksuccessfulinpink  \n",
       "4  castelvalerecouturiersoundoff  "
      ]
     },
     "execution_count": 13,
     "metadata": {},
     "output_type": "execute_result"
    }
   ],
   "source": [
    "df.head(5)"
   ]
  },
  {
   "cell_type": "markdown",
   "id": "f4a3626e",
   "metadata": {},
   "source": [
    "## Empty Keys"
   ]
  },
  {
   "cell_type": "markdown",
   "id": "4bb6132b",
   "metadata": {},
   "source": [
    "Vamos a realizar una pequeña revisión de las Keys, no debe existir ninguna key que este en blanco, realizar un merge de registros con keys vacias podria incluso eliminar bases de datos completas."
   ]
  },
  {
   "cell_type": "code",
   "execution_count": 14,
   "id": "a1c3d9bb",
   "metadata": {},
   "outputs": [],
   "source": [
    "df['Key'] = df['Key'].apply(delte_unnecessary_blank_spaces)"
   ]
  },
  {
   "cell_type": "code",
   "execution_count": 15,
   "id": "3bbbc3fb",
   "metadata": {},
   "outputs": [
    {
     "data": {
      "text/markdown": [
       "<h3><span style='color:green'>Keys are properly configured</span></h3> Go ahead!"
      ],
      "text/plain": [
       "<IPython.core.display.Markdown object>"
      ]
     },
     "metadata": {},
     "output_type": "display_data"
    }
   ],
   "source": [
    "detect_empty_keys = df.loc[df['Key'] == '']\n",
    "\n",
    "if len(detect_empty_keys) != 0:\n",
    "    printmd(\"<h3><span style='color:red'>There are keys configured as empty</span></h3> please check these keys that are empty [''], otherwise you will end up making merges that should not be made.\")\n",
    "else:\n",
    "     printmd(\"<h3><span style='color:green'>Keys are properly configured</span></h3> Go ahead!\")"
   ]
  },
  {
   "cell_type": "code",
   "execution_count": 16,
   "id": "1829f218",
   "metadata": {},
   "outputs": [
    {
     "data": {
      "text/html": [
       "<div>\n",
       "<style scoped>\n",
       "    .dataframe tbody tr th:only-of-type {\n",
       "        vertical-align: middle;\n",
       "    }\n",
       "\n",
       "    .dataframe tbody tr th {\n",
       "        vertical-align: top;\n",
       "    }\n",
       "\n",
       "    .dataframe thead th {\n",
       "        text-align: right;\n",
       "    }\n",
       "</style>\n",
       "<table border=\"1\" class=\"dataframe\">\n",
       "  <thead>\n",
       "    <tr style=\"text-align: right;\">\n",
       "      <th></th>\n",
       "      <th>Record ID</th>\n",
       "      <th>First Name</th>\n",
       "      <th>Last Name</th>\n",
       "      <th>Phone Number</th>\n",
       "      <th>Email</th>\n",
       "      <th>Street Address</th>\n",
       "      <th>Associated Company</th>\n",
       "      <th>Record View</th>\n",
       "      <th>Key</th>\n",
       "    </tr>\n",
       "  </thead>\n",
       "  <tbody>\n",
       "  </tbody>\n",
       "</table>\n",
       "</div>"
      ],
      "text/plain": [
       "Empty DataFrame\n",
       "Columns: [Record ID, First Name, Last Name, Phone Number, Email, Street Address, Associated Company, Record View, Key]\n",
       "Index: []"
      ]
     },
     "execution_count": 16,
     "metadata": {},
     "output_type": "execute_result"
    }
   ],
   "source": [
    "detect_empty_keys"
   ]
  },
  {
   "cell_type": "markdown",
   "id": "745d41ba",
   "metadata": {},
   "source": [
    "## Define number of duplicates"
   ]
  },
  {
   "cell_type": "markdown",
   "id": "5eb66bea",
   "metadata": {},
   "source": [
    "En esta longitud de valores seremos capaces de recorrer todo el frame de duplicados, obteniendo todas las key unicas que nos señalan los duplicados."
   ]
  },
  {
   "cell_type": "code",
   "execution_count": 17,
   "id": "a7439996",
   "metadata": {},
   "outputs": [],
   "source": [
    "duplicates = df.drop_duplicates(subset=['Key'])\n",
    "duplicates = duplicates.reset_index(drop=True)"
   ]
  },
  {
   "cell_type": "markdown",
   "id": "caf7d4f2",
   "metadata": {},
   "source": [
    "## Merge Records"
   ]
  },
  {
   "cell_type": "code",
   "execution_count": 22,
   "id": "0d3f3c6b",
   "metadata": {},
   "outputs": [
    {
     "name": "stdout",
     "output_type": "stream",
     "text": [
      "Loop # 41 of 41\n",
      "Merge # 1 - Merging 1654501 into 1856001\n",
      "<Response [200]>\n"
     ]
    }
   ],
   "source": [
    "for i in range(len(duplicates)):\n",
    "    \n",
    "    clear_output(wait=True)\n",
    "    \n",
    "    print('Loop # {} of {}'.format(i, len(duplicates)-1))\n",
    "    \n",
    "    ## Our key to detect duplicates\n",
    "    key = duplicates.at[i, 'Key']\n",
    "    \n",
    "    ## Find Duplicates Frame\n",
    "    mini = df.loc[(df['Key'] == key)]\n",
    "    \n",
    "    ## To select the newest or oldest record as primary_record_id [ascending=True/False]\n",
    "    #mini = mini.sort_values(by='Create Date', ascending=True) \n",
    "    mini = mini.reset_index(drop=True)\n",
    "    \n",
    "    # # # Loop for merging\n",
    "    primary_record_id = int(mini.at[0, 'Record ID']) # Start record\n",
    "    \n",
    "    for j in range(1, len(mini)): #Start in 1 because primary_record_id will be the first [i = 0] in the start\n",
    "        \n",
    "        to_merge_record_id = int(mini.at[j, 'Record ID'])\n",
    "        \n",
    "        payload = json.dumps({'primaryObjectId': primary_record_id,\n",
    "                              'objectIdToMerge': to_merge_record_id})\n",
    "        \n",
    "        url = 'https://api.hubapi.com/crm/v3/objects/{}/merge'.format(records_object_type)\n",
    "        \n",
    "        api_response = requests.request(\"POST\", url, data=payload, headers=headers)\n",
    "        \n",
    "        ## El resultado del merge es un nuevo registro con un nuevo ID, este se convierte en el primary_record_id\n",
    "        primary_record_id = api_response.json()['id']\n",
    "        \n",
    "        print('Merge # {} - Merging {} into {}'.format(j, to_merge_record_id, primary_record_id))\n",
    "        print(api_response)\n",
    "        \n",
    "    break ## Puse este break-loop_i para que revise el primer resultado que le dio - recuerde que desmerge no hay"
   ]
  }
 ],
 "metadata": {
  "kernelspec": {
   "display_name": "Python 3 (ipykernel)",
   "language": "python",
   "name": "python3"
  },
  "language_info": {
   "codemirror_mode": {
    "name": "ipython",
    "version": 3
   },
   "file_extension": ".py",
   "mimetype": "text/x-python",
   "name": "python",
   "nbconvert_exporter": "python",
   "pygments_lexer": "ipython3",
   "version": "3.10.9"
  }
 },
 "nbformat": 4,
 "nbformat_minor": 5
}
