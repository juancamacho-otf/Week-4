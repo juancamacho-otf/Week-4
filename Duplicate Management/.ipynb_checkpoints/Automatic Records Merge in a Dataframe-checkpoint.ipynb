{
 "cells": [
  {
   "cell_type": "markdown",
   "id": "f83d491c",
   "metadata": {},
   "source": [
    "## Libraries"
   ]
  },
  {
   "cell_type": "markdown",
   "id": "1e986eb4",
   "metadata": {},
   "source": [
    "**Python Libraries**"
   ]
  },
  {
   "cell_type": "code",
   "execution_count": 1,
   "id": "c7982f32",
   "metadata": {},
   "outputs": [],
   "source": [
    "import pandas as pd\n",
    "import numpy as np"
   ]
  },
  {
   "cell_type": "markdown",
   "id": "bd298324",
   "metadata": {},
   "source": [
    "**Data Team Libraries**"
   ]
  },
  {
   "cell_type": "code",
   "execution_count": 2,
   "id": "465b9e2e",
   "metadata": {},
   "outputs": [],
   "source": [
    "path = r'C:\\Users\\Admin\\Documents\\GitHub\\Operational-Library-For-Data-Engineers' #Input\n",
    "import sys\n",
    "sys.path.insert(0,path)\n",
    "\n",
    "from manage_duplicates.merge_duplicate_records_by_a_key_in_a_frame import merge_duplicate_records_by_a_key_in_a_frame"
   ]
  },
  {
   "cell_type": "markdown",
   "id": "c489d3cd",
   "metadata": {},
   "source": [
    "## Read Your Frame"
   ]
  },
  {
   "cell_type": "code",
   "execution_count": 3,
   "id": "0f141669",
   "metadata": {},
   "outputs": [],
   "source": [
    "df = pd.read_csv('Test.csv')"
   ]
  },
  {
   "cell_type": "code",
   "execution_count": 5,
   "id": "936d13f3",
   "metadata": {},
   "outputs": [
    {
     "data": {
      "text/html": [
       "<div>\n",
       "<style scoped>\n",
       "    .dataframe tbody tr th:only-of-type {\n",
       "        vertical-align: middle;\n",
       "    }\n",
       "\n",
       "    .dataframe tbody tr th {\n",
       "        vertical-align: top;\n",
       "    }\n",
       "\n",
       "    .dataframe thead th {\n",
       "        text-align: right;\n",
       "    }\n",
       "</style>\n",
       "<table border=\"1\" class=\"dataframe\">\n",
       "  <thead>\n",
       "    <tr style=\"text-align: right;\">\n",
       "      <th></th>\n",
       "      <th>Record ID</th>\n",
       "      <th>Company Name</th>\n",
       "      <th>Phone Number</th>\n",
       "      <th>Street Address</th>\n",
       "      <th>Type</th>\n",
       "      <th>Key</th>\n",
       "    </tr>\n",
       "  </thead>\n",
       "  <tbody>\n",
       "    <tr>\n",
       "      <th>0</th>\n",
       "      <td>1014</td>\n",
       "      <td>Wired AK</td>\n",
       "      <td>NaN</td>\n",
       "      <td>2665 Turner Rd SE</td>\n",
       "      <td>A</td>\n",
       "      <td>wired ak</td>\n",
       "    </tr>\n",
       "    <tr>\n",
       "      <th>1</th>\n",
       "      <td>1015</td>\n",
       "      <td>Wired AK LLC</td>\n",
       "      <td>702-293-1403</td>\n",
       "      <td>2665 Turner Rd S E</td>\n",
       "      <td>A</td>\n",
       "      <td>wired ak</td>\n",
       "    </tr>\n",
       "    <tr>\n",
       "      <th>2</th>\n",
       "      <td>1016</td>\n",
       "      <td>Xamax Industries Inc</td>\n",
       "      <td>+1 203-881-7113</td>\n",
       "      <td>63 Silvermine Rd</td>\n",
       "      <td>B</td>\n",
       "      <td>xamax industries</td>\n",
       "    </tr>\n",
       "    <tr>\n",
       "      <th>3</th>\n",
       "      <td>1017</td>\n",
       "      <td>Xamax Industries, Inc.</td>\n",
       "      <td>203-881-7113</td>\n",
       "      <td>NaN</td>\n",
       "      <td>C</td>\n",
       "      <td>xamax industries</td>\n",
       "    </tr>\n",
       "    <tr>\n",
       "      <th>4</th>\n",
       "      <td>1018</td>\n",
       "      <td>Wilsonart</td>\n",
       "      <td>9075622444</td>\n",
       "      <td>1616 Ann Way</td>\n",
       "      <td>A</td>\n",
       "      <td>wilsonart</td>\n",
       "    </tr>\n",
       "  </tbody>\n",
       "</table>\n",
       "</div>"
      ],
      "text/plain": [
       "   Record ID            Company Name      Phone Number      Street Address  \\\n",
       "0       1014                Wired AK               NaN   2665 Turner Rd SE   \n",
       "1       1015            Wired AK LLC      702-293-1403  2665 Turner Rd S E   \n",
       "2       1016    Xamax Industries Inc   +1 203-881-7113    63 Silvermine Rd   \n",
       "3       1017  Xamax Industries, Inc.      203-881-7113                 NaN   \n",
       "4       1018               Wilsonart        9075622444        1616 Ann Way   \n",
       "\n",
       "  Type               Key  \n",
       "0    A          wired ak  \n",
       "1    A          wired ak  \n",
       "2    B  xamax industries  \n",
       "3    C  xamax industries  \n",
       "4    A         wilsonart  "
      ]
     },
     "execution_count": 5,
     "metadata": {},
     "output_type": "execute_result"
    }
   ],
   "source": [
    "df"
   ]
  },
  {
   "cell_type": "markdown",
   "id": "cb5ddb47",
   "metadata": {},
   "source": [
    "This code works according a unique key which allows us to identify duplicates, use the codes \"Find Duplicated...\" to get this key."
   ]
  },
  {
   "cell_type": "code",
   "execution_count": 6,
   "id": "de304567",
   "metadata": {},
   "outputs": [],
   "source": [
    "unique_key_column_name = 'Key'"
   ]
  },
  {
   "cell_type": "markdown",
   "id": "5df31018",
   "metadata": {},
   "source": [
    "## Merge Duplicates"
   ]
  },
  {
   "cell_type": "code",
   "execution_count": 7,
   "id": "743d4e6b",
   "metadata": {},
   "outputs": [
    {
     "name": "stdout",
     "output_type": "stream",
     "text": [
      "Loop # 0 of 2\n",
      "Loop # 2 of 2\n",
      "Process completed...\n"
     ]
    }
   ],
   "source": [
    "duplicates_frame_merged = merge_duplicate_records_by_a_key_in_a_frame(duplicates_frame = df,\n",
    "                                                                      unique_key_column_name = unique_key_column_name,\n",
    "                                                                      create_date_column_name = '',\n",
    "                                                                      list_of_columns_with_values_to_concatenate = ['Type'])"
   ]
  },
  {
   "cell_type": "markdown",
   "id": "360770b1",
   "metadata": {},
   "source": [
    "In the resulting frame we can see that the merge was performed correctly, where the main record keeps the values of the other records and the different values are correctly concatenated."
   ]
  },
  {
   "cell_type": "code",
   "execution_count": 8,
   "id": "42083198",
   "metadata": {},
   "outputs": [
    {
     "data": {
      "text/html": [
       "<div>\n",
       "<style scoped>\n",
       "    .dataframe tbody tr th:only-of-type {\n",
       "        vertical-align: middle;\n",
       "    }\n",
       "\n",
       "    .dataframe tbody tr th {\n",
       "        vertical-align: top;\n",
       "    }\n",
       "\n",
       "    .dataframe thead th {\n",
       "        text-align: right;\n",
       "    }\n",
       "</style>\n",
       "<table border=\"1\" class=\"dataframe\">\n",
       "  <thead>\n",
       "    <tr style=\"text-align: right;\">\n",
       "      <th></th>\n",
       "      <th>Record ID</th>\n",
       "      <th>Company Name</th>\n",
       "      <th>Phone Number</th>\n",
       "      <th>Street Address</th>\n",
       "      <th>Type</th>\n",
       "      <th>Key</th>\n",
       "    </tr>\n",
       "  </thead>\n",
       "  <tbody>\n",
       "    <tr>\n",
       "      <th>0</th>\n",
       "      <td>1014</td>\n",
       "      <td>Wired AK</td>\n",
       "      <td>702-293-1403</td>\n",
       "      <td>2665 Turner Rd SE</td>\n",
       "      <td>A</td>\n",
       "      <td>wired ak</td>\n",
       "    </tr>\n",
       "    <tr>\n",
       "      <th>1</th>\n",
       "      <td>1016</td>\n",
       "      <td>Xamax Industries Inc</td>\n",
       "      <td>+1 203-881-7113</td>\n",
       "      <td>63 Silvermine Rd</td>\n",
       "      <td>B;C</td>\n",
       "      <td>xamax industries</td>\n",
       "    </tr>\n",
       "    <tr>\n",
       "      <th>2</th>\n",
       "      <td>1018</td>\n",
       "      <td>Wilsonart</td>\n",
       "      <td>9075622444</td>\n",
       "      <td>1616 Ann Way</td>\n",
       "      <td>A</td>\n",
       "      <td>wilsonart</td>\n",
       "    </tr>\n",
       "  </tbody>\n",
       "</table>\n",
       "</div>"
      ],
      "text/plain": [
       "   Record ID          Company Name      Phone Number     Street Address Type  \\\n",
       "0       1014              Wired AK      702-293-1403  2665 Turner Rd SE    A   \n",
       "1       1016  Xamax Industries Inc   +1 203-881-7113   63 Silvermine Rd  B;C   \n",
       "2       1018             Wilsonart        9075622444       1616 Ann Way    A   \n",
       "\n",
       "                Key  \n",
       "0          wired ak  \n",
       "1  xamax industries  \n",
       "2         wilsonart  "
      ]
     },
     "execution_count": 8,
     "metadata": {},
     "output_type": "execute_result"
    }
   ],
   "source": [
    "duplicates_frame_merged"
   ]
  }
 ],
 "metadata": {
  "kernelspec": {
   "display_name": "Python 3 (ipykernel)",
   "language": "python",
   "name": "python3"
  },
  "language_info": {
   "codemirror_mode": {
    "name": "ipython",
    "version": 3
   },
   "file_extension": ".py",
   "mimetype": "text/x-python",
   "name": "python",
   "nbconvert_exporter": "python",
   "pygments_lexer": "ipython3",
   "version": "3.10.9"
  }
 },
 "nbformat": 4,
 "nbformat_minor": 5
}
