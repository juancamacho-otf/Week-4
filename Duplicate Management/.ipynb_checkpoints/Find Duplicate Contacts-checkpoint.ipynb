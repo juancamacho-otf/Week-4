{
 "cells": [
  {
   "cell_type": "markdown",
   "id": "075e8fd2",
   "metadata": {},
   "source": [
    "### Libraries"
   ]
  },
  {
   "cell_type": "code",
   "execution_count": 1,
   "id": "790decbf",
   "metadata": {},
   "outputs": [],
   "source": [
    "import pandas as pd\n",
    "import numpy as np"
   ]
  },
  {
   "cell_type": "markdown",
   "id": "27ccb1d5",
   "metadata": {},
   "source": [
    "### Data Team Libraries"
   ]
  },
  {
   "cell_type": "code",
   "execution_count": 2,
   "id": "4dcb114b",
   "metadata": {},
   "outputs": [],
   "source": [
    "path = r'C:\\Users\\Admin\\Documents\\GitHub\\Operational-Library-For-Data-Engineers'"
   ]
  },
  {
   "cell_type": "code",
   "execution_count": 3,
   "id": "c27c7e4c",
   "metadata": {},
   "outputs": [],
   "source": [
    "import sys\n",
    "sys.path.insert(0,path)\n",
    "\n",
    "from manage_duplicates.find_duplicate_contacts_by_name_and_phone import find_duplicate_contacts_by_name_and_phone\n",
    "from data_tranfromations.delte_unnecessary_blank_spaces import delte_unnecessary_blank_spaces"
   ]
  },
  {
   "cell_type": "markdown",
   "id": "5056b257",
   "metadata": {},
   "source": [
    "## Input Data Frame"
   ]
  },
  {
   "cell_type": "code",
   "execution_count": 7,
   "id": "15a66376",
   "metadata": {},
   "outputs": [],
   "source": [
    "file_path = r'C:\\Users\\Admin\\Desktop\\85ztpk5b6 - Amazing Explorers - Merge Duplicates - CP-5903 Contacts'"
   ]
  },
  {
   "cell_type": "code",
   "execution_count": 8,
   "id": "03d9d175",
   "metadata": {},
   "outputs": [],
   "source": [
    "df = pd.read_csv(file_path+r'\\all-contacts.csv', low_memory=False)"
   ]
  },
  {
   "cell_type": "markdown",
   "id": "f3084da9",
   "metadata": {},
   "source": [
    "#### Standarize empty spaces"
   ]
  },
  {
   "cell_type": "code",
   "execution_count": 9,
   "id": "6c25c35f",
   "metadata": {},
   "outputs": [],
   "source": [
    "df = df.replace(np.nan, '')"
   ]
  },
  {
   "cell_type": "markdown",
   "id": "4eb30e58",
   "metadata": {},
   "source": [
    "### If Name is separate in two fields"
   ]
  },
  {
   "cell_type": "code",
   "execution_count": 12,
   "id": "ec8dd290",
   "metadata": {},
   "outputs": [],
   "source": [
    "df['Full Name'] = df['First Name'] + ' ' + df['Last Name']\n",
    "\n",
    "df['Full Name'] = df['Full Name'].apply(delte_unnecessary_blank_spaces)"
   ]
  },
  {
   "cell_type": "markdown",
   "id": "3cdd2b62",
   "metadata": {},
   "source": [
    "## Space to review keys"
   ]
  },
  {
   "cell_type": "code",
   "execution_count": 13,
   "id": "f0d7338c",
   "metadata": {},
   "outputs": [],
   "source": [
    "#list(df.keys())"
   ]
  },
  {
   "cell_type": "markdown",
   "id": "cef77b05",
   "metadata": {},
   "source": [
    "## Run Find Duplicates Funcion"
   ]
  },
  {
   "cell_type": "code",
   "execution_count": 14,
   "id": "79fc06d9",
   "metadata": {},
   "outputs": [],
   "source": [
    "frame_full_name_column_name = 'Full Name'\n",
    "frame_phone_column_name = 'Phone Number'"
   ]
  },
  {
   "cell_type": "code",
   "execution_count": 15,
   "id": "05caa0fe",
   "metadata": {},
   "outputs": [],
   "source": [
    "duplicates_frame, no_duplicates_frame = find_duplicate_contacts_by_name_and_phone(df,\n",
    "                                                                                  frame_full_name_column_name,\n",
    "                                                                                  frame_phone_column_name)"
   ]
  },
  {
   "cell_type": "code",
   "execution_count": 16,
   "id": "85c7bdcb",
   "metadata": {},
   "outputs": [
    {
     "name": "stdout",
     "output_type": "stream",
     "text": [
      "759 Duplicated Records Found\n"
     ]
    }
   ],
   "source": [
    "print('{} Duplicated Records Found'.format(len(duplicates_frame)))"
   ]
  },
  {
   "cell_type": "markdown",
   "id": "eb21debd",
   "metadata": {},
   "source": [
    "## Add records View"
   ]
  },
  {
   "cell_type": "code",
   "execution_count": 17,
   "id": "5813334d",
   "metadata": {},
   "outputs": [],
   "source": [
    "def link(record_id):\n",
    "    \n",
    "    account_id = '9394440' ## Change this according your account\n",
    "    record_id = str(int(record_id))\n",
    "    \n",
    "    record_view = 'https://app.hubspot.com/contacts/{}/record/0-1/{}'.format(account_id, record_id)\n",
    "    \n",
    "    return record_view"
   ]
  },
  {
   "cell_type": "code",
   "execution_count": 18,
   "id": "952d7563",
   "metadata": {},
   "outputs": [],
   "source": [
    "duplicates_frame['Record View'] = duplicates_frame['Record ID'].apply(link)"
   ]
  },
  {
   "cell_type": "markdown",
   "id": "128a7980",
   "metadata": {},
   "source": [
    "## Save Duplicates Frame"
   ]
  },
  {
   "cell_type": "code",
   "execution_count": 19,
   "id": "d0cddbf7",
   "metadata": {},
   "outputs": [],
   "source": [
    "duplicates_to_review = duplicates_frame[['Record ID', 'First Name', 'Last Name', \n",
    "                                         'Phone Number', 'Email', 'Street Address', \n",
    "                                         'Record View', 'Key']]"
   ]
  },
  {
   "cell_type": "code",
   "execution_count": 20,
   "id": "63eac8ce",
   "metadata": {},
   "outputs": [],
   "source": [
    "duplicates_to_review.to_excel(file_path+r'\\Duplicate Contacts Records Found.xlsx')"
   ]
  },
  {
   "cell_type": "code",
   "execution_count": 21,
   "id": "fa172aba",
   "metadata": {},
   "outputs": [
    {
     "data": {
      "text/html": [
       "<div>\n",
       "<style scoped>\n",
       "    .dataframe tbody tr th:only-of-type {\n",
       "        vertical-align: middle;\n",
       "    }\n",
       "\n",
       "    .dataframe tbody tr th {\n",
       "        vertical-align: top;\n",
       "    }\n",
       "\n",
       "    .dataframe thead th {\n",
       "        text-align: right;\n",
       "    }\n",
       "</style>\n",
       "<table border=\"1\" class=\"dataframe\">\n",
       "  <thead>\n",
       "    <tr style=\"text-align: right;\">\n",
       "      <th></th>\n",
       "      <th>Record ID</th>\n",
       "      <th>First Name</th>\n",
       "      <th>Last Name</th>\n",
       "      <th>Phone Number</th>\n",
       "      <th>Email</th>\n",
       "      <th>Street Address</th>\n",
       "      <th>Record View</th>\n",
       "      <th>Key</th>\n",
       "    </tr>\n",
       "  </thead>\n",
       "  <tbody>\n",
       "    <tr>\n",
       "      <th>2687</th>\n",
       "      <td>34602501</td>\n",
       "      <td>Yuliya</td>\n",
       "      <td>Timchenko</td>\n",
       "      <td>(347) 571-3112</td>\n",
       "      <td>julie.timchenko@gmail.com</td>\n",
       "      <td></td>\n",
       "      <td>https://app.hubspot.com/contacts/9394440/recor...</td>\n",
       "      <td>yuliyatimchenko3475713112</td>\n",
       "    </tr>\n",
       "    <tr>\n",
       "      <th>6740</th>\n",
       "      <td>22218201</td>\n",
       "      <td>Yuliya</td>\n",
       "      <td>Timchenko</td>\n",
       "      <td>3475713112</td>\n",
       "      <td>juliatimchenko@yahoo.com</td>\n",
       "      <td></td>\n",
       "      <td>https://app.hubspot.com/contacts/9394440/recor...</td>\n",
       "      <td>yuliyatimchenko3475713112</td>\n",
       "    </tr>\n",
       "    <tr>\n",
       "      <th>5436</th>\n",
       "      <td>25132401</td>\n",
       "      <td>Yulia</td>\n",
       "      <td>Shatalova</td>\n",
       "      <td>(469) 450-2218</td>\n",
       "      <td>jusa0411@gmail.com</td>\n",
       "      <td></td>\n",
       "      <td>https://app.hubspot.com/contacts/9394440/recor...</td>\n",
       "      <td>yuliashatalova4694502218</td>\n",
       "    </tr>\n",
       "    <tr>\n",
       "      <th>5614</th>\n",
       "      <td>24735601</td>\n",
       "      <td>Yulia</td>\n",
       "      <td>Shatalova</td>\n",
       "      <td>(469) 450-2218</td>\n",
       "      <td>sch-julia@yandex.ru</td>\n",
       "      <td></td>\n",
       "      <td>https://app.hubspot.com/contacts/9394440/recor...</td>\n",
       "      <td>yuliashatalova4694502218</td>\n",
       "    </tr>\n",
       "    <tr>\n",
       "      <th>13626</th>\n",
       "      <td>11194601</td>\n",
       "      <td>Yayser</td>\n",
       "      <td>Leonarduzzi</td>\n",
       "      <td>(321) 287-7029</td>\n",
       "      <td>yayser@hotmail.com</td>\n",
       "      <td></td>\n",
       "      <td>https://app.hubspot.com/contacts/9394440/recor...</td>\n",
       "      <td>yayserleonarduzzi3212877029</td>\n",
       "    </tr>\n",
       "  </tbody>\n",
       "</table>\n",
       "</div>"
      ],
      "text/plain": [
       "       Record ID First Name    Last Name    Phone Number  \\\n",
       "2687    34602501     Yuliya    Timchenko  (347) 571-3112   \n",
       "6740    22218201     Yuliya    Timchenko      3475713112   \n",
       "5436    25132401      Yulia    Shatalova  (469) 450-2218   \n",
       "5614    24735601      Yulia    Shatalova  (469) 450-2218   \n",
       "13626   11194601     Yayser  Leonarduzzi  (321) 287-7029   \n",
       "\n",
       "                           Email Street Address  \\\n",
       "2687   julie.timchenko@gmail.com                  \n",
       "6740    juliatimchenko@yahoo.com                  \n",
       "5436          jusa0411@gmail.com                  \n",
       "5614         sch-julia@yandex.ru                  \n",
       "13626         yayser@hotmail.com                  \n",
       "\n",
       "                                             Record View  \\\n",
       "2687   https://app.hubspot.com/contacts/9394440/recor...   \n",
       "6740   https://app.hubspot.com/contacts/9394440/recor...   \n",
       "5436   https://app.hubspot.com/contacts/9394440/recor...   \n",
       "5614   https://app.hubspot.com/contacts/9394440/recor...   \n",
       "13626  https://app.hubspot.com/contacts/9394440/recor...   \n",
       "\n",
       "                               Key  \n",
       "2687     yuliyatimchenko3475713112  \n",
       "6740     yuliyatimchenko3475713112  \n",
       "5436      yuliashatalova4694502218  \n",
       "5614      yuliashatalova4694502218  \n",
       "13626  yayserleonarduzzi3212877029  "
      ]
     },
     "execution_count": 21,
     "metadata": {},
     "output_type": "execute_result"
    }
   ],
   "source": [
    "duplicates_to_review.head(5)"
   ]
  }
 ],
 "metadata": {
  "kernelspec": {
   "display_name": "Python 3 (ipykernel)",
   "language": "python",
   "name": "python3"
  },
  "language_info": {
   "codemirror_mode": {
    "name": "ipython",
    "version": 3
   },
   "file_extension": ".py",
   "mimetype": "text/x-python",
   "name": "python",
   "nbconvert_exporter": "python",
   "pygments_lexer": "ipython3",
   "version": "3.10.9"
  }
 },
 "nbformat": 4,
 "nbformat_minor": 5
}
