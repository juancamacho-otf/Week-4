{
 "cells": [
  {
   "cell_type": "markdown",
   "id": "3b8077ac",
   "metadata": {},
   "source": [
    "# Set environment variables"
   ]
  },
  {
   "cell_type": "code",
   "execution_count": 1,
   "id": "2ae089fc",
   "metadata": {},
   "outputs": [],
   "source": [
    "import os\n",
    "\n",
    "os.environ[\"path\"] = r'C:\\Users\\Admin\\Documents\\GitHub\\Operational-Library-For-Data-Engineers'\n",
    "\n",
    "\n",
    "os.environ[\"records_folder\"] = r'C:\\Users\\Admin\\Desktop\\860t53y6h - Percy Duplicates'\n",
    "os.environ[\"df_file_name\"] = 'all-companies.csv'\n",
    "\n",
    "os.environ[\"account_id\"] = '7947154'\n",
    "os.environ[\"add_hubspot_records_view\"] = 'Yes'\n",
    "\n",
    "# It is not necessary to fill in all of the following fields\n",
    "os.environ[\"company_name_column_name\"] = 'Company name'\n",
    "os.environ[\"phone_number_column_name\"] = '' # could be empty ''\n",
    "os.environ[\"street_address_column_name\"] = '' # could be empty ''\n",
    "os.environ[\"list_of_columns\"] = 'Company Domain Name' # could be empty '' or several properties separed with a ; 'Company Domain;Phone Number'"
   ]
  },
  {
   "cell_type": "markdown",
   "id": "c15c6a72",
   "metadata": {},
   "source": [
    "# Libraries"
   ]
  },
  {
   "cell_type": "markdown",
   "id": "aae6c417-bb7e-423c-9176-04c998013002",
   "metadata": {},
   "source": [
    "### Python Libraries"
   ]
  },
  {
   "cell_type": "code",
   "execution_count": 2,
   "id": "8ceac91e",
   "metadata": {},
   "outputs": [],
   "source": [
    "import pandas as pd\n",
    "import numpy as np"
   ]
  },
  {
   "cell_type": "markdown",
   "id": "5b2b4375",
   "metadata": {},
   "source": [
    "### Data Team Libraries"
   ]
  },
  {
   "cell_type": "markdown",
   "id": "94774026-3495-4cf5-a26e-ee6806cbeb97",
   "metadata": {},
   "source": [
    "Add your \"Operational-Library-For-Data-Engineers\" Repository Path _**(path: str)**_ folder where you have saved your repository copy."
   ]
  },
  {
   "cell_type": "code",
   "execution_count": 3,
   "id": "bc145ed6",
   "metadata": {},
   "outputs": [],
   "source": [
    "path = os.getenv('path')"
   ]
  },
  {
   "cell_type": "code",
   "execution_count": 4,
   "id": "c2e8be04-e1d9-4861-bf32-24a188ce41de",
   "metadata": {},
   "outputs": [],
   "source": [
    "import sys\n",
    "sys.path.insert(0,path)"
   ]
  },
  {
   "cell_type": "code",
   "execution_count": 5,
   "id": "d6da0be9",
   "metadata": {},
   "outputs": [],
   "source": [
    "from manage_duplicates.find_duplicate_companies_by_specified_fields import find_duplicate_companies_by_specified_fields\n",
    "from data_tranfromations.delte_unnecessary_blank_spaces import delte_unnecessary_blank_spaces"
   ]
  },
  {
   "cell_type": "markdown",
   "id": "1fdf796d-a8a3-4380-ba3a-efaaf45e1056",
   "metadata": {
    "papermill": {
     "duration": 0.004003,
     "end_time": "2023-09-18T02:52:21.638811",
     "exception": false,
     "start_time": "2023-09-18T02:52:21.634808",
     "status": "completed"
    },
    "tags": []
   },
   "source": [
    "# Proyect Folders"
   ]
  },
  {
   "cell_type": "markdown",
   "id": "2e515aa1-070d-4720-8798-fed3194455d0",
   "metadata": {
    "papermill": {
     "duration": 0.005002,
     "end_time": "2023-09-18T02:52:21.648360",
     "exception": false,
     "start_time": "2023-09-18T02:52:21.643358",
     "status": "completed"
    },
    "tags": []
   },
   "source": [
    "**Records Folder** _**(records_folder: str)**_ Folder where data is saved."
   ]
  },
  {
   "cell_type": "code",
   "execution_count": 6,
   "id": "a4acdca3-b71a-4682-b6ae-48a506da1669",
   "metadata": {
    "execution": {
     "iopub.execute_input": "2023-09-18T02:52:21.656938Z",
     "iopub.status.busy": "2023-09-18T02:52:21.656938Z",
     "iopub.status.idle": "2023-09-18T02:52:21.675090Z",
     "shell.execute_reply": "2023-09-18T02:52:21.674366Z"
    },
    "papermill": {
     "duration": 0.024125,
     "end_time": "2023-09-18T02:52:21.676101",
     "exception": false,
     "start_time": "2023-09-18T02:52:21.651976",
     "status": "completed"
    },
    "tags": []
   },
   "outputs": [],
   "source": [
    "records_folder = os.getenv('records_folder')"
   ]
  },
  {
   "cell_type": "markdown",
   "id": "d86ecb82-5ff4-4394-a76f-3f73b04f7ece",
   "metadata": {
    "papermill": {
     "duration": 0.004,
     "end_time": "2023-09-18T02:52:21.779492",
     "exception": false,
     "start_time": "2023-09-18T02:52:21.775492",
     "status": "completed"
    },
    "tags": []
   },
   "source": [
    "# Read DataFrame"
   ]
  },
  {
   "cell_type": "markdown",
   "id": "89d6b36d-2c40-4e34-b952-5bbc55904dc5",
   "metadata": {
    "papermill": {
     "duration": 0.004997,
     "end_time": "2023-09-18T02:52:21.790005",
     "exception": false,
     "start_time": "2023-09-18T02:52:21.785008",
     "status": "completed"
    },
    "tags": []
   },
   "source": [
    "**DataFrame File Name** _**(df_file_name: str)**_ Name of the file to read, should be a csv file type."
   ]
  },
  {
   "cell_type": "code",
   "execution_count": 7,
   "id": "f3648136-bfd1-44de-9a39-497caf65fa71",
   "metadata": {
    "execution": {
     "iopub.execute_input": "2023-09-18T02:52:21.799518Z",
     "iopub.status.busy": "2023-09-18T02:52:21.799518Z",
     "iopub.status.idle": "2023-09-18T02:52:21.818060Z",
     "shell.execute_reply": "2023-09-18T02:52:21.817321Z"
    },
    "papermill": {
     "duration": 0.024539,
     "end_time": "2023-09-18T02:52:21.819057",
     "exception": false,
     "start_time": "2023-09-18T02:52:21.794518",
     "status": "completed"
    },
    "tags": []
   },
   "outputs": [],
   "source": [
    "df_file_name = os.getenv('df_file_name')"
   ]
  },
  {
   "cell_type": "markdown",
   "id": "11366fc0-7ffc-4eb1-bd0b-43e95ac92772",
   "metadata": {
    "papermill": {
     "duration": 0.003996,
     "end_time": "2023-09-18T02:52:21.828670",
     "exception": false,
     "start_time": "2023-09-18T02:52:21.824674",
     "status": "completed"
    },
    "tags": []
   },
   "source": [
    "**Read your csv file**"
   ]
  },
  {
   "cell_type": "code",
   "execution_count": 8,
   "id": "2954913f-b31a-45af-b586-771d74955daa",
   "metadata": {
    "execution": {
     "iopub.execute_input": "2023-09-18T02:52:21.846688Z",
     "iopub.status.busy": "2023-09-18T02:52:21.846688Z",
     "iopub.status.idle": "2023-09-18T02:52:22.944380Z",
     "shell.execute_reply": "2023-09-18T02:52:22.943562Z"
    },
    "papermill": {
     "duration": 1.10573,
     "end_time": "2023-09-18T02:52:22.946412",
     "exception": false,
     "start_time": "2023-09-18T02:52:21.840682",
     "status": "completed"
    },
    "tags": []
   },
   "outputs": [],
   "source": [
    "df = pd.read_csv(records_folder+'\\\\'+df_file_name, low_memory=False)"
   ]
  },
  {
   "cell_type": "code",
   "execution_count": 9,
   "id": "a6b16bca-f01e-4803-bd52-49a66fd1a709",
   "metadata": {
    "execution": {
     "iopub.execute_input": "2023-09-18T02:52:22.955955Z",
     "iopub.status.busy": "2023-09-18T02:52:22.955955Z",
     "iopub.status.idle": "2023-09-18T02:52:22.990717Z",
     "shell.execute_reply": "2023-09-18T02:52:22.989972Z"
    },
    "papermill": {
     "duration": 0.042013,
     "end_time": "2023-09-18T02:52:22.992993",
     "exception": false,
     "start_time": "2023-09-18T02:52:22.950980",
     "status": "completed"
    },
    "tags": []
   },
   "outputs": [
    {
     "data": {
      "text/html": [
       "<div>\n",
       "<style scoped>\n",
       "    .dataframe tbody tr th:only-of-type {\n",
       "        vertical-align: middle;\n",
       "    }\n",
       "\n",
       "    .dataframe tbody tr th {\n",
       "        vertical-align: top;\n",
       "    }\n",
       "\n",
       "    .dataframe thead th {\n",
       "        text-align: right;\n",
       "    }\n",
       "</style>\n",
       "<table border=\"1\" class=\"dataframe\">\n",
       "  <thead>\n",
       "    <tr style=\"text-align: right;\">\n",
       "      <th></th>\n",
       "      <th>Record ID</th>\n",
       "      <th># of Active LOs</th>\n",
       "      <th># of Agents</th>\n",
       "      <th># of Licensed LOs</th>\n",
       "      <th>About Us</th>\n",
       "      <th>Account Satisfaction</th>\n",
       "      <th>Account Segment</th>\n",
       "      <th>Active Flag</th>\n",
       "      <th>Active RollWorks Campaigns/Playbooks</th>\n",
       "      <th>Affiliation</th>\n",
       "      <th>...</th>\n",
       "      <th>Vendor Buyer Data in V2</th>\n",
       "      <th>Web Technologies</th>\n",
       "      <th>Website URL</th>\n",
       "      <th>Website Vendor</th>\n",
       "      <th>Websites</th>\n",
       "      <th>Year Founded</th>\n",
       "      <th>Zip</th>\n",
       "      <th>ZoomInfo Account ID</th>\n",
       "      <th>ZoomInfo Company ID</th>\n",
       "      <th>ZoomInfo Company Profile URL</th>\n",
       "    </tr>\n",
       "  </thead>\n",
       "  <tbody>\n",
       "    <tr>\n",
       "      <th>0</th>\n",
       "      <td>18559347782</td>\n",
       "      <td>NaN</td>\n",
       "      <td>NaN</td>\n",
       "      <td>NaN</td>\n",
       "      <td>NaN</td>\n",
       "      <td>NaN</td>\n",
       "      <td>NaN</td>\n",
       "      <td>NaN</td>\n",
       "      <td>NaN</td>\n",
       "      <td>NaN</td>\n",
       "      <td>...</td>\n",
       "      <td>NaN</td>\n",
       "      <td>Google Tag Manager; Segment; Recaptcha; Google...</td>\n",
       "      <td>remaxcenterga.com</td>\n",
       "      <td>NaN</td>\n",
       "      <td>NaN</td>\n",
       "      <td>1994.0</td>\n",
       "      <td>NaN</td>\n",
       "      <td>NaN</td>\n",
       "      <td>NaN</td>\n",
       "      <td>NaN</td>\n",
       "    </tr>\n",
       "    <tr>\n",
       "      <th>1</th>\n",
       "      <td>18495016254</td>\n",
       "      <td>NaN</td>\n",
       "      <td>NaN</td>\n",
       "      <td>NaN</td>\n",
       "      <td>NaN</td>\n",
       "      <td>NaN</td>\n",
       "      <td>NaN</td>\n",
       "      <td>NaN</td>\n",
       "      <td>NaN</td>\n",
       "      <td>NaN</td>\n",
       "      <td>...</td>\n",
       "      <td>NaN</td>\n",
       "      <td>Route 53; Unbounce; Branch; App Nexus; Google ...</td>\n",
       "      <td>theberthiaumes.kw.com</td>\n",
       "      <td>NaN</td>\n",
       "      <td>NaN</td>\n",
       "      <td>1983.0</td>\n",
       "      <td>NaN</td>\n",
       "      <td>NaN</td>\n",
       "      <td>NaN</td>\n",
       "      <td>NaN</td>\n",
       "    </tr>\n",
       "  </tbody>\n",
       "</table>\n",
       "<p>2 rows × 295 columns</p>\n",
       "</div>"
      ],
      "text/plain": [
       "     Record ID  # of Active LOs  # of Agents  # of Licensed LOs  About Us  \\\n",
       "0  18559347782              NaN          NaN                NaN       NaN   \n",
       "1  18495016254              NaN          NaN                NaN       NaN   \n",
       "\n",
       "  Account Satisfaction Account Segment Active Flag  \\\n",
       "0                  NaN             NaN         NaN   \n",
       "1                  NaN             NaN         NaN   \n",
       "\n",
       "   Active RollWorks Campaigns/Playbooks Affiliation  ...  \\\n",
       "0                                   NaN         NaN  ...   \n",
       "1                                   NaN         NaN  ...   \n",
       "\n",
       "   Vendor Buyer Data in V2                                   Web Technologies  \\\n",
       "0                      NaN  Google Tag Manager; Segment; Recaptcha; Google...   \n",
       "1                      NaN  Route 53; Unbounce; Branch; App Nexus; Google ...   \n",
       "\n",
       "             Website URL Website Vendor  Websites  Year Founded  Zip  \\\n",
       "0      remaxcenterga.com            NaN       NaN        1994.0  NaN   \n",
       "1  theberthiaumes.kw.com            NaN       NaN        1983.0  NaN   \n",
       "\n",
       "  ZoomInfo Account ID ZoomInfo Company ID ZoomInfo Company Profile URL  \n",
       "0                 NaN                 NaN                          NaN  \n",
       "1                 NaN                 NaN                          NaN  \n",
       "\n",
       "[2 rows x 295 columns]"
      ]
     },
     "execution_count": 9,
     "metadata": {},
     "output_type": "execute_result"
    }
   ],
   "source": [
    "df.head(2)"
   ]
  },
  {
   "cell_type": "markdown",
   "id": "ff6de3bd",
   "metadata": {},
   "source": [
    "**Standarize empty spaces**"
   ]
  },
  {
   "cell_type": "code",
   "execution_count": 10,
   "id": "e2f6f68a",
   "metadata": {},
   "outputs": [],
   "source": [
    "df = df.replace(np.nan, '')"
   ]
  },
  {
   "cell_type": "markdown",
   "id": "00c32a1f",
   "metadata": {},
   "source": [
    "**Space to review keys**"
   ]
  },
  {
   "cell_type": "code",
   "execution_count": 11,
   "id": "7ed5c19e",
   "metadata": {},
   "outputs": [],
   "source": [
    "#list(df.keys())"
   ]
  },
  {
   "cell_type": "markdown",
   "id": "10daec29",
   "metadata": {},
   "source": [
    "# Find Duplicates"
   ]
  },
  {
   "cell_type": "code",
   "execution_count": 12,
   "id": "d3dedc95-e864-46e1-9e95-8b55d93d14f6",
   "metadata": {},
   "outputs": [],
   "source": [
    "company_name_column_name = os.getenv('company_name_column_name')\n",
    "phone_number_column_name = os.getenv('phone_number_column_name')\n",
    "street_address_column_name = os.getenv('street_address_column_name')\n",
    "\n",
    "list_of_columns = os.getenv('list_of_columns')\n",
    "list_of_columns = list_of_columns.split(';')\n",
    "if '' in list_of_columns:\n",
    "    list_of_columns.remove('')"
   ]
  },
  {
   "cell_type": "code",
   "execution_count": 13,
   "id": "58a849ff",
   "metadata": {},
   "outputs": [],
   "source": [
    "duplicates_frame, no_duplicates_frame = find_duplicate_companies_by_specified_fields(frame_data = df, \n",
    "                                                                                     company_name_column_name = company_name_column_name,\n",
    "                                                                                     phone_number_column_name = phone_number_column_name,\n",
    "                                                                                     street_address_column_name = street_address_column_name,\n",
    "                                                                                     list_of_columns = list_of_columns)"
   ]
  },
  {
   "cell_type": "markdown",
   "id": "03ebe01f-69e6-4d06-b1af-80e91935a282",
   "metadata": {},
   "source": [
    "# Add HubSpot Records View"
   ]
  },
  {
   "cell_type": "code",
   "execution_count": 14,
   "id": "81fe8c42-fa5d-4b78-a02c-5ece1bfe6365",
   "metadata": {},
   "outputs": [],
   "source": [
    "def link_to_view_record(record_id):\n",
    "    \n",
    "    account_id = os.getenv('account_id') ## Change this according your account\n",
    "    record_id = str(int(record_id))\n",
    "    \n",
    "    record_view = 'https://app.hubspot.com/contacts/{}/record/0-2/{}'.format(account_id, record_id)\n",
    "    \n",
    "    return record_view"
   ]
  },
  {
   "cell_type": "code",
   "execution_count": 15,
   "id": "a24be4e3-f494-420a-bd3f-0b90835121d6",
   "metadata": {},
   "outputs": [],
   "source": [
    "add_hubspot_records_view = os.getenv('add_hubspot_records_view')"
   ]
  },
  {
   "cell_type": "code",
   "execution_count": 16,
   "id": "1e92ecd3-f2ad-4309-9c74-45ffa4a6e3f7",
   "metadata": {},
   "outputs": [],
   "source": [
    "if add_hubspot_records_view == 'Yes':\n",
    "    duplicates_frame['Record View'] = duplicates_frame['Record ID'].apply(link_to_view_record)\n",
    "else:\n",
    "    pass"
   ]
  },
  {
   "cell_type": "markdown",
   "id": "39e9d394",
   "metadata": {},
   "source": [
    "# Save Duplicates Frame"
   ]
  },
  {
   "cell_type": "code",
   "execution_count": 17,
   "id": "a63ce309",
   "metadata": {},
   "outputs": [],
   "source": [
    "duplicates_to_review = duplicates_frame[['Record ID', 'Company name', 'Company Domain Name', 'Phone Number', 'Street Address', 'Record View', 'Key']]"
   ]
  },
  {
   "cell_type": "code",
   "execution_count": 18,
   "id": "f2fc986c-0f8b-45fe-949c-aab570e8cd21",
   "metadata": {},
   "outputs": [],
   "source": [
    "#duplicates_to_review = duplicates_frame.copy()"
   ]
  },
  {
   "cell_type": "code",
   "execution_count": 19,
   "id": "6d8e6264",
   "metadata": {},
   "outputs": [
    {
     "name": "stdout",
     "output_type": "stream",
     "text": [
      "3174 Duplicated Records Found\n"
     ]
    }
   ],
   "source": [
    "duplicates_to_review.to_excel(records_folder+r'\\Duplicate Company Records Found.xlsx')\n",
    "\n",
    "print(len(duplicates_to_review), 'Duplicated Records Found')"
   ]
  },
  {
   "cell_type": "code",
   "execution_count": 20,
   "id": "45ee25a8",
   "metadata": {},
   "outputs": [
    {
     "data": {
      "text/html": [
       "<div>\n",
       "<style scoped>\n",
       "    .dataframe tbody tr th:only-of-type {\n",
       "        vertical-align: middle;\n",
       "    }\n",
       "\n",
       "    .dataframe tbody tr th {\n",
       "        vertical-align: top;\n",
       "    }\n",
       "\n",
       "    .dataframe thead th {\n",
       "        text-align: right;\n",
       "    }\n",
       "</style>\n",
       "<table border=\"1\" class=\"dataframe\">\n",
       "  <thead>\n",
       "    <tr style=\"text-align: right;\">\n",
       "      <th></th>\n",
       "      <th>Record ID</th>\n",
       "      <th>Company name</th>\n",
       "      <th>Company Domain Name</th>\n",
       "      <th>Phone Number</th>\n",
       "      <th>Street Address</th>\n",
       "      <th>Record View</th>\n",
       "      <th>Key</th>\n",
       "    </tr>\n",
       "  </thead>\n",
       "  <tbody>\n",
       "    <tr>\n",
       "      <th>0</th>\n",
       "      <td>4435998766</td>\n",
       "      <td>Zephyr Real Estate</td>\n",
       "      <td>zephyrsf.com</td>\n",
       "      <td>4153481212</td>\n",
       "      <td>CA</td>\n",
       "      <td>https://app.hubspot.com/contacts/7947154/recor...</td>\n",
       "      <td>zephyrrealestate zephyrsf.com</td>\n",
       "    </tr>\n",
       "    <tr>\n",
       "      <th>1</th>\n",
       "      <td>18279920716</td>\n",
       "      <td>Zephyr Real Estate</td>\n",
       "      <td>zephyrsf.com</td>\n",
       "      <td>(415) 309-1367</td>\n",
       "      <td>2282 Market St</td>\n",
       "      <td>https://app.hubspot.com/contacts/7947154/recor...</td>\n",
       "      <td>zephyrrealestate zephyrsf.com</td>\n",
       "    </tr>\n",
       "    <tr>\n",
       "      <th>2</th>\n",
       "      <td>4436118280</td>\n",
       "      <td>Zephyr Real Estate</td>\n",
       "      <td>zephyrsf.com</td>\n",
       "      <td>4153481212</td>\n",
       "      <td>7th Street</td>\n",
       "      <td>https://app.hubspot.com/contacts/7947154/recor...</td>\n",
       "      <td>zephyrrealestate zephyrsf.com</td>\n",
       "    </tr>\n",
       "    <tr>\n",
       "      <th>3</th>\n",
       "      <td>4436009411</td>\n",
       "      <td>Zeitlin Sotheby's International Realty</td>\n",
       "      <td>zeitlin.com</td>\n",
       "      <td>6153830183</td>\n",
       "      <td>4301 Hillsboro Road, Ste. 100 Nashville, TN 37215</td>\n",
       "      <td>https://app.hubspot.com/contacts/7947154/recor...</td>\n",
       "      <td>zeitlinsothebysinternationalrealty zeitlin.com</td>\n",
       "    </tr>\n",
       "    <tr>\n",
       "      <th>4</th>\n",
       "      <td>4436126726</td>\n",
       "      <td>Zeitlin Sotheby  s International Realty</td>\n",
       "      <td>zeitlin.com</td>\n",
       "      <td>6153830183</td>\n",
       "      <td>4301 Hillsboro Pike</td>\n",
       "      <td>https://app.hubspot.com/contacts/7947154/recor...</td>\n",
       "      <td>zeitlinsothebysinternationalrealty zeitlin.com</td>\n",
       "    </tr>\n",
       "  </tbody>\n",
       "</table>\n",
       "</div>"
      ],
      "text/plain": [
       "     Record ID                             Company name Company Domain Name  \\\n",
       "0   4435998766                       Zephyr Real Estate        zephyrsf.com   \n",
       "1  18279920716                       Zephyr Real Estate        zephyrsf.com   \n",
       "2   4436118280                       Zephyr Real Estate        zephyrsf.com   \n",
       "3   4436009411   Zeitlin Sotheby's International Realty         zeitlin.com   \n",
       "4   4436126726  Zeitlin Sotheby  s International Realty         zeitlin.com   \n",
       "\n",
       "     Phone Number                                     Street Address  \\\n",
       "0      4153481212                                                 CA   \n",
       "1  (415) 309-1367                                     2282 Market St   \n",
       "2      4153481212                                         7th Street   \n",
       "3      6153830183  4301 Hillsboro Road, Ste. 100 Nashville, TN 37215   \n",
       "4      6153830183                                4301 Hillsboro Pike   \n",
       "\n",
       "                                         Record View  \\\n",
       "0  https://app.hubspot.com/contacts/7947154/recor...   \n",
       "1  https://app.hubspot.com/contacts/7947154/recor...   \n",
       "2  https://app.hubspot.com/contacts/7947154/recor...   \n",
       "3  https://app.hubspot.com/contacts/7947154/recor...   \n",
       "4  https://app.hubspot.com/contacts/7947154/recor...   \n",
       "\n",
       "                                              Key  \n",
       "0                   zephyrrealestate zephyrsf.com  \n",
       "1                   zephyrrealestate zephyrsf.com  \n",
       "2                   zephyrrealestate zephyrsf.com  \n",
       "3  zeitlinsothebysinternationalrealty zeitlin.com  \n",
       "4  zeitlinsothebysinternationalrealty zeitlin.com  "
      ]
     },
     "execution_count": 20,
     "metadata": {},
     "output_type": "execute_result"
    }
   ],
   "source": [
    "duplicates_to_review.head(5)"
   ]
  }
 ],
 "metadata": {
  "kernelspec": {
   "display_name": "Python 3 (ipykernel)",
   "language": "python",
   "name": "python3"
  },
  "language_info": {
   "codemirror_mode": {
    "name": "ipython",
    "version": 3
   },
   "file_extension": ".py",
   "mimetype": "text/x-python",
   "name": "python",
   "nbconvert_exporter": "python",
   "pygments_lexer": "ipython3",
   "version": "3.10.9"
  }
 },
 "nbformat": 4,
 "nbformat_minor": 5
}
