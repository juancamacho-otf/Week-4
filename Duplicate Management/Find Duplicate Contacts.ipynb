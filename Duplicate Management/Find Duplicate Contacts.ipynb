{
 "cells": [
  {
   "cell_type": "markdown",
   "id": "8575ffaa-090e-4803-bad8-0ef5b843eba3",
   "metadata": {
    "tags": []
   },
   "source": [
    "### Libraries"
   ]
  },
  {
   "cell_type": "code",
   "execution_count": 1,
   "id": "d3e0ef66-587f-447e-8bba-171f4ece9eda",
   "metadata": {
    "tags": []
   },
   "outputs": [],
   "source": [
    "import pandas as pd\n",
    "import numpy as np"
   ]
  },
  {
   "cell_type": "code",
   "execution_count": 36,
   "id": "9c3a1fa1-5765-43d6-aed9-f1c67330d9fc",
   "metadata": {
    "tags": []
   },
   "outputs": [],
   "source": [
    "import os\n",
    "\n",
    "os.environ[\"path\"] = r\"C:\\Users\\Juan Pablo Pelaez\\Documents\\PyDev-Operational-Library-For-Data-Engineers\"\n",
    "\n",
    "os.environ[\"records_folder\"] = r'C:\\Users\\Juan Pablo Pelaez\\Documents\\Training\\Training APIs'\n",
    "os.environ[\"df_file_name\"] = 'all-contacts.csv'\n",
    "os.environ[\"account_id\"] = '48749153'\n",
    "os.environ[\"add_hubspot_records_view\"] = 'Yes'\n",
    "\n",
    "# It is not necessary to fill in all of the following fields\n",
    "os.environ[\"full_name_column_name\"] = 'Full Name'\n",
    "os.environ[\"phone_number_column_name\"] = 'Phone Number' # could be empty ''\n",
    "os.environ[\"mobile_phone_number_column_name\"] = 'Mobile Phone Number' # could be empty ''\n",
    "os.environ[\"street_address_column_name\"] = 'Street Address' # could be empty ''\n",
    "os.environ[\"list_of_columns\"] = ''#'Company Domain Name' # could be empty '' or several properties separed with a ; 'Company Domain;Phone Number'"
   ]
  },
  {
   "cell_type": "markdown",
   "id": "848986a4-c4f8-45ff-a5b5-62c3bbe9eeee",
   "metadata": {},
   "source": [
    "### Data Team Libraries"
   ]
  },
  {
   "cell_type": "code",
   "execution_count": 37,
   "id": "51d4ab65-6284-4226-951b-7d29e8c79d41",
   "metadata": {
    "tags": []
   },
   "outputs": [],
   "source": [
    "path = r\"C:\\Users\\Juan Pablo Pelaez\\Documents\\PyDev-Operational-Library-For-Data-Engineers\""
   ]
  },
  {
   "cell_type": "code",
   "execution_count": 38,
   "id": "8102d462-1cf7-4f39-887b-ee0d91c787cc",
   "metadata": {
    "tags": []
   },
   "outputs": [],
   "source": [
    "import sys\n",
    "sys.path.insert(0,path)\n",
    "\n",
    "from functions.manage_duplicates.find_duplicate_contacts_by_name_and_phone import find_duplicate_contacts_by_name_and_phone\n",
    "from functions.manage_duplicates.find_duplicate_contacts_by_email import find_duplicate_contacts_by_email\n",
    "from functions.manage_duplicates.find_duplicate_contacts_by_specified_fields import find_duplicate_contacts_by_specified_fields\n",
    "from functions.data_transformations.delete_unnecessary_blank_spaces import delete_unnecessary_blank_spaces\n",
    "\n",
    "from functions.manage_duplicates.standardize_data.standardize_contacts_full_name import standardize_contacts_full_name"
   ]
  },
  {
   "cell_type": "markdown",
   "id": "701293b4-d1b7-4df2-aa50-d7e20d82b589",
   "metadata": {},
   "source": [
    "## Input Data Frame"
   ]
  },
  {
   "cell_type": "code",
   "execution_count": 39,
   "id": "4ff15764-4aaa-4e87-8d60-0892e8f3e2c1",
   "metadata": {
    "tags": []
   },
   "outputs": [],
   "source": [
    "file_path = os.getenv('records_folder')"
   ]
  },
  {
   "cell_type": "code",
   "execution_count": 40,
   "id": "f780cac5-b3a9-49fb-810a-61540a917e7b",
   "metadata": {
    "tags": []
   },
   "outputs": [],
   "source": [
    "df = pd.read_csv(file_path+'//'+os.getenv('df_file_name'), low_memory=False)"
   ]
  },
  {
   "cell_type": "markdown",
   "id": "2b982be4-a7ef-415e-ac7d-3681f7279e7e",
   "metadata": {},
   "source": [
    "#### Standarize empty spaces"
   ]
  },
  {
   "cell_type": "code",
   "execution_count": 41,
   "id": "235ac497-23d4-47bd-8694-ea41bcad386c",
   "metadata": {
    "tags": []
   },
   "outputs": [],
   "source": [
    "df = df.replace(np.nan, '')"
   ]
  },
  {
   "cell_type": "markdown",
   "id": "9e41c564-752f-4bc5-b07f-5da6ad3792e7",
   "metadata": {
    "tags": []
   },
   "source": [
    "### If Name is split in two fields"
   ]
  },
  {
   "cell_type": "code",
   "execution_count": 42,
   "id": "5eee2168-710e-4086-affb-434503e68dd4",
   "metadata": {
    "tags": []
   },
   "outputs": [],
   "source": [
    "full_name_column = os.getenv('full_name_column_name')"
   ]
  },
  {
   "cell_type": "code",
   "execution_count": 43,
   "id": "b05fe546-0838-4804-8b0d-ed1699fbc6ce",
   "metadata": {
    "tags": []
   },
   "outputs": [
    {
     "name": "stderr",
     "output_type": "stream",
     "text": [
      "C:\\Users\\Juan Pablo Pelaez\\AppData\\Local\\Temp\\ipykernel_17532\\1354254860.py:1: PerformanceWarning: DataFrame is highly fragmented.  This is usually the result of calling `frame.insert` many times, which has poor performance.  Consider joining all columns at once using pd.concat(axis=1) instead. To get a de-fragmented frame, use `newframe = frame.copy()`\n",
      "  df[full_name_column] = df['First Name'] + ' ' + df['Last Name']\n"
     ]
    }
   ],
   "source": [
    "df[full_name_column] = df['First Name'] + ' ' + df['Last Name']\n",
    "\n",
    "df[full_name_column] = df[full_name_column].apply(delete_unnecessary_blank_spaces)"
   ]
  },
  {
   "cell_type": "code",
   "execution_count": 44,
   "id": "63271fa7-a177-4b64-a4dd-89a50e2a9174",
   "metadata": {
    "tags": []
   },
   "outputs": [
    {
     "name": "stderr",
     "output_type": "stream",
     "text": [
      "C:\\Users\\Juan Pablo Pelaez\\AppData\\Local\\Temp\\ipykernel_17532\\1983766633.py:1: PerformanceWarning: DataFrame is highly fragmented.  This is usually the result of calling `frame.insert` many times, which has poor performance.  Consider joining all columns at once using pd.concat(axis=1) instead. To get a de-fragmented frame, use `newframe = frame.copy()`\n",
      "  df['Standardized Full Name'] = df['Full Name'].apply(standardize_contacts_full_name)\n"
     ]
    }
   ],
   "source": [
    "df['Standardized Full Name'] = df['Full Name'].apply(standardize_contacts_full_name)"
   ]
  },
  {
   "cell_type": "markdown",
   "id": "fc877178-6af0-43c1-9638-c5548c0a07c3",
   "metadata": {
    "tags": []
   },
   "source": [
    "## Run Find Duplicates Funcion"
   ]
  },
  {
   "cell_type": "code",
   "execution_count": 45,
   "id": "9c19c012-d702-48ab-b765-9a8dad67b815",
   "metadata": {
    "tags": []
   },
   "outputs": [],
   "source": [
    "frame_phone_column_name = os.getenv('phone_number_column_name')\n",
    "street_address_column_name = os.getenv('street_address_column_name')\n",
    "mobile_phone_number_column_name = os.getenv('mobile_phone_number_column_name')"
   ]
  },
  {
   "cell_type": "code",
   "execution_count": 46,
   "id": "46bf28f5",
   "metadata": {},
   "outputs": [
    {
     "name": "stderr",
     "output_type": "stream",
     "text": [
      "C:\\Users\\Juan Pablo Pelaez\\AppData\\Local\\Temp\\ipykernel_17532\\3007377009.py:1: PerformanceWarning: DataFrame is highly fragmented.  This is usually the result of calling `frame.insert` many times, which has poor performance.  Consider joining all columns at once using pd.concat(axis=1) instead. To get a de-fragmented frame, use `newframe = frame.copy()`\n",
      "  df['original mail']=df['Email']\n"
     ]
    }
   ],
   "source": [
    "df['original mail']=df['Email']\n"
   ]
  },
  {
   "cell_type": "code",
   "execution_count": 47,
   "id": "535cc7fe-6eb6-46c6-b280-5920a0fa04aa",
   "metadata": {
    "tags": []
   },
   "outputs": [],
   "source": [
    "duplicates_frame, no_duplicates_frame = find_duplicate_contacts_by_email(df,'Email')"
   ]
  },
  {
   "cell_type": "code",
   "execution_count": 48,
   "id": "15ebe41d",
   "metadata": {},
   "outputs": [
    {
     "name": "stdout",
     "output_type": "stream",
     "text": [
      "279 Duplicated Records Found\n"
     ]
    }
   ],
   "source": [
    "print('{} Duplicated Records Found'.format(len(duplicates_frame)))"
   ]
  },
  {
   "cell_type": "markdown",
   "id": "cc04e989-92dd-4dab-9a8a-6c1a9d9566b5",
   "metadata": {},
   "source": [
    "# Add HubSpot Records View and Save Duplicates Frame"
   ]
  },
  {
   "cell_type": "code",
   "execution_count": 18,
   "id": "1451e042-580e-47e1-8c86-d5ba0ea02376",
   "metadata": {
    "tags": []
   },
   "outputs": [],
   "source": [
    "def link_to_view_record(record_id):\n",
    "    \n",
    "    account_id = os.getenv('account_id') ## Change this according your account\n",
    "    record_id = str(int(record_id))\n",
    "    \n",
    "    record_view = 'https://app.hubspot.com/contacts/{}/record/0-1/{}'.format(account_id, record_id)\n",
    "    \n",
    "    return record_view"
   ]
  },
  {
   "cell_type": "code",
   "execution_count": 19,
   "id": "716d2944-6ad4-4b32-9435-d547688a409e",
   "metadata": {
    "tags": []
   },
   "outputs": [],
   "source": [
    "add_hubspot_records_view = os.getenv('add_hubspot_records_view')"
   ]
  },
  {
   "cell_type": "code",
   "execution_count": 20,
   "id": "07b5a375-b121-4dd3-98ae-9601d5a5e5fb",
   "metadata": {
    "tags": []
   },
   "outputs": [],
   "source": [
    "names = [street_address_column_name,frame_phone_column_name]"
   ]
  },
  {
   "cell_type": "code",
   "execution_count": 21,
   "id": "cf183506-030e-4979-911b-b8798bfe240a",
   "metadata": {
    "tags": []
   },
   "outputs": [
    {
     "name": "stdout",
     "output_type": "stream",
     "text": [
      "4 Duplicated Records Found\n",
      "2 Duplicated Records Found\n"
     ]
    }
   ],
   "source": [
    "for dataframe, name in zip([street, phone],names):\n",
    "    if add_hubspot_records_view == 'Yes':\n",
    "        dataframe['Record View'] = dataframe['Record ID'].apply(link_to_view_record)\n",
    "    else:\n",
    "        pass\n",
    "\n",
    "    dataframe[['Record ID', 'First Name', 'Last Name', 'Email',\n",
    "                                         frame_phone_column_name, street_address_column_name, \n",
    "                                         'Record View', 'Key']].to_excel(file_path+r'\\Duplicate Contact Records Found by {}.xlsx'.format(name))\n",
    "\n",
    "    print(len(dataframe), 'Duplicated Records Found')"
   ]
  },
  {
   "cell_type": "markdown",
   "id": "6a13e033-8155-4c60-ba7c-14ad8089d2d2",
   "metadata": {
    "jp-MarkdownHeadingCollapsed": true,
    "tags": []
   },
   "source": [
    "# If few duplicates are found with the previous methods, ask the strategies if the following strategies sound good"
   ]
  },
  {
   "cell_type": "markdown",
   "id": "450cfb65-7e75-47af-b307-accdaea38cc6",
   "metadata": {},
   "source": [
    "### Email domain (Same name and same email domain, mostly for same companies, but might mark as duplicates people with the same name within the same company)"
   ]
  },
  {
   "cell_type": "code",
   "execution_count": 36,
   "id": "2c103a0d-2eb6-4440-a862-4c04419f5c19",
   "metadata": {
    "tags": []
   },
   "outputs": [],
   "source": [
    "excluded_domains = ['gmail.com','yahoo.com','aol.com','hotmail.com','icloud.com','comcast.net','msn.com','outlook.com']"
   ]
  },
  {
   "cell_type": "code",
   "execution_count": null,
   "id": "71d9b3e2-61c1-458f-aa4d-1f702e0d84d2",
   "metadata": {
    "tags": []
   },
   "outputs": [],
   "source": [
    "df['Email domain key'] = df['Standardized Full Name']+df['Email Domain']"
   ]
  },
  {
   "cell_type": "code",
   "execution_count": 26,
   "id": "baeb18ef-a3d9-41f4-8eb9-115cf2f885de",
   "metadata": {
    "tags": []
   },
   "outputs": [],
   "source": [
    "df[df.duplicated(subset=['Email Domain','Email domain key'],keep=False)&(df['Standardized Full Name']!='')&(~df['Email Domain'].isin(excluded_domains))&(df['Email Domain']!='')][['Record ID', 'First Name', 'Last Name',frame_phone_column_name, 'Email', street_address_column_name,'Email domain key']].sort_values('Email domain key').to_excel(file_path+'\\\\Duplicate contacts by name and email domain.xlsx',index=False)"
   ]
  },
  {
   "cell_type": "markdown",
   "id": "ea61ad08-cf21-4a93-91fa-aa25c67d6a3e",
   "metadata": {
    "jp-MarkdownHeadingCollapsed": true,
    "tags": []
   },
   "source": [
    "# Without info (This is useful when there's a lot of contacts without information)"
   ]
  },
  {
   "cell_type": "markdown",
   "id": "56a749a2-ab36-41e7-b0f2-37e31ac2726f",
   "metadata": {},
   "source": [
    "### This generates a dataframe whose name is duplicated but have information, at least one of email, street address or phone number"
   ]
  },
  {
   "cell_type": "code",
   "execution_count": 29,
   "id": "54a982fb-fc95-4bdd-96eb-b641a950c628",
   "metadata": {
    "tags": []
   },
   "outputs": [],
   "source": [
    "with_info = df[(df.duplicated(subset='Standardized Full Name',keep=False))&(df['Standardized Full Name']!='')&((df['Email']!='')|(df['Street Address']!='')|(df['Phone Number']!=''))]"
   ]
  },
  {
   "cell_type": "markdown",
   "id": "4c9bcfae-f6d9-4973-9382-a0f20522bd62",
   "metadata": {},
   "source": [
    "### This generates a dataframe that don't have information but that could be merged into a contact with information"
   ]
  },
  {
   "cell_type": "code",
   "execution_count": 30,
   "id": "0cec31a2-89df-432a-929c-97f31bb55d1d",
   "metadata": {
    "tags": []
   },
   "outputs": [],
   "source": [
    "no_info = df[(df['Email']!='')&(df.duplicated(subset='Standardized Full Name',keep=False))&(df['Street Address']=='')&(df['Phone Number']=='')&((df['Standardized Full Name'].isin(with_info['Standardized Full Name'])))]"
   ]
  },
  {
   "cell_type": "code",
   "execution_count": 35,
   "id": "b3166076-d6ba-4fc1-8c71-84781aa835d0",
   "metadata": {
    "tags": []
   },
   "outputs": [
    {
     "data": {
      "text/html": [
       "<div>\n",
       "<style scoped>\n",
       "    .dataframe tbody tr th:only-of-type {\n",
       "        vertical-align: middle;\n",
       "    }\n",
       "\n",
       "    .dataframe tbody tr th {\n",
       "        vertical-align: top;\n",
       "    }\n",
       "\n",
       "    .dataframe thead th {\n",
       "        text-align: right;\n",
       "    }\n",
       "</style>\n",
       "<table border=\"1\" class=\"dataframe\">\n",
       "  <thead>\n",
       "    <tr style=\"text-align: right;\">\n",
       "      <th></th>\n",
       "      <th>Record ID</th>\n",
       "      <th>First Name</th>\n",
       "      <th>Last Name</th>\n",
       "      <th>Email</th>\n",
       "      <th>Phone Number</th>\n",
       "      <th>Email</th>\n",
       "      <th>Street Address</th>\n",
       "      <th>Standardized Full Name</th>\n",
       "    </tr>\n",
       "  </thead>\n",
       "  <tbody>\n",
       "    <tr>\n",
       "      <th>1309</th>\n",
       "      <td>411527</td>\n",
       "      <td>Charles</td>\n",
       "      <td>Adair</td>\n",
       "      <td>cadair@cxtec.com</td>\n",
       "      <td></td>\n",
       "      <td>cadair@cxtec.com</td>\n",
       "      <td></td>\n",
       "      <td>charlesadair</td>\n",
       "    </tr>\n",
       "    <tr>\n",
       "      <th>1565</th>\n",
       "      <td>408800</td>\n",
       "      <td>Jason</td>\n",
       "      <td>Adams</td>\n",
       "      <td>sonoftexas70@protonmail.com</td>\n",
       "      <td></td>\n",
       "      <td>sonoftexas70@protonmail.com</td>\n",
       "      <td></td>\n",
       "      <td>jasonada</td>\n",
       "    </tr>\n",
       "    <tr>\n",
       "      <th>1636</th>\n",
       "      <td>409194</td>\n",
       "      <td>Kim</td>\n",
       "      <td>Adams</td>\n",
       "      <td>kimmadamspa@gmail.com</td>\n",
       "      <td></td>\n",
       "      <td>kimmadamspa@gmail.com</td>\n",
       "      <td></td>\n",
       "      <td>kimada</td>\n",
       "    </tr>\n",
       "    <tr>\n",
       "      <th>1726</th>\n",
       "      <td>407823</td>\n",
       "      <td>Patricia</td>\n",
       "      <td>Adams</td>\n",
       "      <td>pladams213@gmail.com</td>\n",
       "      <td></td>\n",
       "      <td>pladams213@gmail.com</td>\n",
       "      <td></td>\n",
       "      <td>patriciaada</td>\n",
       "    </tr>\n",
       "    <tr>\n",
       "      <th>1975</th>\n",
       "      <td>407061</td>\n",
       "      <td>Marie</td>\n",
       "      <td>Adeniyi</td>\n",
       "      <td>marie.adeniyi@gmail.com</td>\n",
       "      <td></td>\n",
       "      <td>marie.adeniyi@gmail.com</td>\n",
       "      <td></td>\n",
       "      <td>marieadeniyi</td>\n",
       "    </tr>\n",
       "    <tr>\n",
       "      <th>...</th>\n",
       "      <td>...</td>\n",
       "      <td>...</td>\n",
       "      <td>...</td>\n",
       "      <td>...</td>\n",
       "      <td>...</td>\n",
       "      <td>...</td>\n",
       "      <td>...</td>\n",
       "      <td>...</td>\n",
       "    </tr>\n",
       "    <tr>\n",
       "      <th>300500</th>\n",
       "      <td>408922</td>\n",
       "      <td>Tulio</td>\n",
       "      <td>Zandomenego</td>\n",
       "      <td>tzando@gmail.com</td>\n",
       "      <td></td>\n",
       "      <td>tzando@gmail.com</td>\n",
       "      <td></td>\n",
       "      <td>tuliozandomenego</td>\n",
       "    </tr>\n",
       "    <tr>\n",
       "      <th>300501</th>\n",
       "      <td>411035</td>\n",
       "      <td>Tulio</td>\n",
       "      <td>Zandomenego</td>\n",
       "      <td>tzando@verizon.net</td>\n",
       "      <td></td>\n",
       "      <td>tzando@verizon.net</td>\n",
       "      <td></td>\n",
       "      <td>tuliozandomenego</td>\n",
       "    </tr>\n",
       "    <tr>\n",
       "      <th>301271</th>\n",
       "      <td>407574</td>\n",
       "      <td>Rima</td>\n",
       "      <td>Zigaitis</td>\n",
       "      <td>rimazig1@gmail.com</td>\n",
       "      <td></td>\n",
       "      <td>rimazig1@gmail.com</td>\n",
       "      <td></td>\n",
       "      <td>rimazigaitis</td>\n",
       "    </tr>\n",
       "    <tr>\n",
       "      <th>301646</th>\n",
       "      <td>410274</td>\n",
       "      <td>Brian</td>\n",
       "      <td>Zlotorzynski</td>\n",
       "      <td>zmazingfish@gmail.com</td>\n",
       "      <td></td>\n",
       "      <td>zmazingfish@gmail.com</td>\n",
       "      <td></td>\n",
       "      <td>brianzlotorzynski</td>\n",
       "    </tr>\n",
       "    <tr>\n",
       "      <th>301798</th>\n",
       "      <td>413111</td>\n",
       "      <td>Sandi</td>\n",
       "      <td>Zorinich</td>\n",
       "      <td>szorinich@comcast.net</td>\n",
       "      <td></td>\n",
       "      <td>szorinich@comcast.net</td>\n",
       "      <td></td>\n",
       "      <td>sandizorinich</td>\n",
       "    </tr>\n",
       "  </tbody>\n",
       "</table>\n",
       "<p>1320 rows × 8 columns</p>\n",
       "</div>"
      ],
      "text/plain": [
       "        Record ID First Name     Last Name                        Email  \\\n",
       "1309       411527    Charles         Adair             cadair@cxtec.com   \n",
       "1565       408800      Jason         Adams  sonoftexas70@protonmail.com   \n",
       "1636       409194        Kim         Adams        kimmadamspa@gmail.com   \n",
       "1726       407823   Patricia         Adams         pladams213@gmail.com   \n",
       "1975       407061      Marie       Adeniyi      marie.adeniyi@gmail.com   \n",
       "...           ...        ...           ...                          ...   \n",
       "300500     408922      Tulio   Zandomenego             tzando@gmail.com   \n",
       "300501     411035      Tulio   Zandomenego           tzando@verizon.net   \n",
       "301271     407574       Rima      Zigaitis           rimazig1@gmail.com   \n",
       "301646     410274      Brian  Zlotorzynski        zmazingfish@gmail.com   \n",
       "301798     413111      Sandi      Zorinich        szorinich@comcast.net   \n",
       "\n",
       "       Phone Number                        Email Street Address  \\\n",
       "1309                            cadair@cxtec.com                  \n",
       "1565                 sonoftexas70@protonmail.com                  \n",
       "1636                       kimmadamspa@gmail.com                  \n",
       "1726                        pladams213@gmail.com                  \n",
       "1975                     marie.adeniyi@gmail.com                  \n",
       "...             ...                          ...            ...   \n",
       "300500                          tzando@gmail.com                  \n",
       "300501                        tzando@verizon.net                  \n",
       "301271                        rimazig1@gmail.com                  \n",
       "301646                     zmazingfish@gmail.com                  \n",
       "301798                     szorinich@comcast.net                  \n",
       "\n",
       "       Standardized Full Name  \n",
       "1309             charlesadair  \n",
       "1565                 jasonada  \n",
       "1636                   kimada  \n",
       "1726              patriciaada  \n",
       "1975             marieadeniyi  \n",
       "...                       ...  \n",
       "300500       tuliozandomenego  \n",
       "300501       tuliozandomenego  \n",
       "301271           rimazigaitis  \n",
       "301646      brianzlotorzynski  \n",
       "301798          sandizorinich  \n",
       "\n",
       "[1320 rows x 8 columns]"
      ]
     },
     "execution_count": 35,
     "metadata": {},
     "output_type": "execute_result"
    }
   ],
   "source": [
    "no_info[['Record ID', 'First Name', 'Last Name', 'Email',\n",
    "                                         frame_phone_column_name, 'Email', street_address_column_name, \n",
    "                                         'Standardized Full Name']]#.to_excel(file_path+'\\\\'+'Contacts duplicated by name with but no phone or address.xlsx',index=False)"
   ]
  },
  {
   "cell_type": "code",
   "execution_count": 33,
   "id": "be967bdf-7826-4976-ad96-38056b510208",
   "metadata": {
    "tags": []
   },
   "outputs": [
    {
     "data": {
      "text/html": [
       "<div>\n",
       "<style scoped>\n",
       "    .dataframe tbody tr th:only-of-type {\n",
       "        vertical-align: middle;\n",
       "    }\n",
       "\n",
       "    .dataframe tbody tr th {\n",
       "        vertical-align: top;\n",
       "    }\n",
       "\n",
       "    .dataframe thead th {\n",
       "        text-align: right;\n",
       "    }\n",
       "</style>\n",
       "<table border=\"1\" class=\"dataframe\">\n",
       "  <thead>\n",
       "    <tr style=\"text-align: right;\">\n",
       "      <th></th>\n",
       "      <th>Record ID</th>\n",
       "      <th>First Name</th>\n",
       "      <th>Last Name</th>\n",
       "      <th>Email</th>\n",
       "      <th>Phone Number</th>\n",
       "      <th>Email</th>\n",
       "      <th>Street Address</th>\n",
       "      <th>Standardized Full Name</th>\n",
       "    </tr>\n",
       "  </thead>\n",
       "  <tbody>\n",
       "    <tr>\n",
       "      <th>202</th>\n",
       "      <td>383304</td>\n",
       "      <td>Barbara</td>\n",
       "      <td>‘Brown</td>\n",
       "      <td>bkbnboulder@gmail.com</td>\n",
       "      <td>9099082910</td>\n",
       "      <td>bkbnboulder@gmail.com</td>\n",
       "      <td>496 Aaron Way</td>\n",
       "      <td>barbarabrown</td>\n",
       "    </tr>\n",
       "    <tr>\n",
       "      <th>461</th>\n",
       "      <td>283777</td>\n",
       "      <td>Paul</td>\n",
       "      <td>A. Hill</td>\n",
       "      <td>dhill1228@yahoo.com</td>\n",
       "      <td>4104286800</td>\n",
       "      <td>dhill1228@yahoo.com</td>\n",
       "      <td>10028 Fox Den Ct</td>\n",
       "      <td>paulahill</td>\n",
       "    </tr>\n",
       "    <tr>\n",
       "      <th>592</th>\n",
       "      <td>343844</td>\n",
       "      <td>Angie</td>\n",
       "      <td>Abbott</td>\n",
       "      <td>angieabbott13@gmail.com</td>\n",
       "      <td>5732309330</td>\n",
       "      <td>angieabbott13@gmail.com</td>\n",
       "      <td>12110 County Road 4049</td>\n",
       "      <td>angieabbott</td>\n",
       "    </tr>\n",
       "    <tr>\n",
       "      <th>593</th>\n",
       "      <td>485796</td>\n",
       "      <td>Angie</td>\n",
       "      <td>Abbott</td>\n",
       "      <td>angiedabbott@gmail.com</td>\n",
       "      <td>+1 (832) 514-5257</td>\n",
       "      <td>angiedabbott@gmail.com</td>\n",
       "      <td></td>\n",
       "      <td>angieabbott</td>\n",
       "    </tr>\n",
       "    <tr>\n",
       "      <th>607</th>\n",
       "      <td>118838</td>\n",
       "      <td>Donna</td>\n",
       "      <td>Abbott</td>\n",
       "      <td>donna@lambertconstructionco.com</td>\n",
       "      <td>4057439677</td>\n",
       "      <td>donna@lambertconstructionco.com</td>\n",
       "      <td>5911 East 15th Avenue</td>\n",
       "      <td>donnaabbott</td>\n",
       "    </tr>\n",
       "    <tr>\n",
       "      <th>...</th>\n",
       "      <td>...</td>\n",
       "      <td>...</td>\n",
       "      <td>...</td>\n",
       "      <td>...</td>\n",
       "      <td>...</td>\n",
       "      <td>...</td>\n",
       "      <td>...</td>\n",
       "      <td>...</td>\n",
       "    </tr>\n",
       "    <tr>\n",
       "      <th>301594</th>\n",
       "      <td>368216</td>\n",
       "      <td>Ronald</td>\n",
       "      <td>Zirkle</td>\n",
       "      <td>itslocks@gmail.com</td>\n",
       "      <td>8034937800</td>\n",
       "      <td>itslocks@gmail.com</td>\n",
       "      <td>4843 old hickory rd</td>\n",
       "      <td>ronaldzirkle</td>\n",
       "    </tr>\n",
       "    <tr>\n",
       "      <th>301645</th>\n",
       "      <td>484458</td>\n",
       "      <td>Brian</td>\n",
       "      <td>Zlotorzynski</td>\n",
       "      <td>brian_zlotorzynski@comcast.net</td>\n",
       "      <td>4104744046.0</td>\n",
       "      <td>brian_zlotorzynski@comcast.net</td>\n",
       "      <td>1450 west mount harmony road</td>\n",
       "      <td>brianzlotorzynski</td>\n",
       "    </tr>\n",
       "    <tr>\n",
       "      <th>301646</th>\n",
       "      <td>410274</td>\n",
       "      <td>Brian</td>\n",
       "      <td>Zlotorzynski</td>\n",
       "      <td>zmazingfish@gmail.com</td>\n",
       "      <td></td>\n",
       "      <td>zmazingfish@gmail.com</td>\n",
       "      <td></td>\n",
       "      <td>brianzlotorzynski</td>\n",
       "    </tr>\n",
       "    <tr>\n",
       "      <th>301797</th>\n",
       "      <td>490327</td>\n",
       "      <td>Sandi</td>\n",
       "      <td>Zorinich</td>\n",
       "      <td>sandi357@hotmail.com</td>\n",
       "      <td>+1 (925) 895-1299</td>\n",
       "      <td>sandi357@hotmail.com</td>\n",
       "      <td></td>\n",
       "      <td>sandizorinich</td>\n",
       "    </tr>\n",
       "    <tr>\n",
       "      <th>301798</th>\n",
       "      <td>413111</td>\n",
       "      <td>Sandi</td>\n",
       "      <td>Zorinich</td>\n",
       "      <td>szorinich@comcast.net</td>\n",
       "      <td></td>\n",
       "      <td>szorinich@comcast.net</td>\n",
       "      <td></td>\n",
       "      <td>sandizorinich</td>\n",
       "    </tr>\n",
       "  </tbody>\n",
       "</table>\n",
       "<p>42840 rows × 8 columns</p>\n",
       "</div>"
      ],
      "text/plain": [
       "        Record ID First Name     Last Name                            Email  \\\n",
       "202        383304    Barbara        ‘Brown            bkbnboulder@gmail.com   \n",
       "461        283777       Paul       A. Hill              dhill1228@yahoo.com   \n",
       "592        343844      Angie        Abbott          angieabbott13@gmail.com   \n",
       "593        485796      Angie        Abbott           angiedabbott@gmail.com   \n",
       "607        118838      Donna        Abbott  donna@lambertconstructionco.com   \n",
       "...           ...        ...           ...                              ...   \n",
       "301594     368216     Ronald        Zirkle               itslocks@gmail.com   \n",
       "301645     484458      Brian  Zlotorzynski   brian_zlotorzynski@comcast.net   \n",
       "301646     410274      Brian  Zlotorzynski            zmazingfish@gmail.com   \n",
       "301797     490327      Sandi      Zorinich             sandi357@hotmail.com   \n",
       "301798     413111      Sandi      Zorinich            szorinich@comcast.net   \n",
       "\n",
       "              Phone Number                            Email  \\\n",
       "202             9099082910            bkbnboulder@gmail.com   \n",
       "461             4104286800              dhill1228@yahoo.com   \n",
       "592             5732309330          angieabbott13@gmail.com   \n",
       "593      +1 (832) 514-5257           angiedabbott@gmail.com   \n",
       "607             4057439677  donna@lambertconstructionco.com   \n",
       "...                    ...                              ...   \n",
       "301594          8034937800               itslocks@gmail.com   \n",
       "301645        4104744046.0   brian_zlotorzynski@comcast.net   \n",
       "301646                                zmazingfish@gmail.com   \n",
       "301797   +1 (925) 895-1299             sandi357@hotmail.com   \n",
       "301798                                szorinich@comcast.net   \n",
       "\n",
       "                      Street Address Standardized Full Name  \n",
       "202                    496 Aaron Way           barbarabrown  \n",
       "461                 10028 Fox Den Ct              paulahill  \n",
       "592           12110 County Road 4049            angieabbott  \n",
       "593                                             angieabbott  \n",
       "607            5911 East 15th Avenue            donnaabbott  \n",
       "...                              ...                    ...  \n",
       "301594           4843 old hickory rd           ronaldzirkle  \n",
       "301645  1450 west mount harmony road      brianzlotorzynski  \n",
       "301646                                    brianzlotorzynski  \n",
       "301797                                        sandizorinich  \n",
       "301798                                        sandizorinich  \n",
       "\n",
       "[42840 rows x 8 columns]"
      ]
     },
     "execution_count": 33,
     "metadata": {},
     "output_type": "execute_result"
    }
   ],
   "source": [
    "with_info[['Record ID', 'First Name', 'Last Name', 'Email',\n",
    "                                         frame_phone_column_name, 'Email', street_address_column_name, \n",
    "                                         'Standardized Full Name']]#.to_excel(file_path+'\\\\'+'Contacts that could be main contacts for duplicates without information.xlsx',index=False)"
   ]
  },
  {
   "cell_type": "code",
   "execution_count": null,
   "id": "5da46c0d-547c-49cb-b688-98cb5e400c53",
   "metadata": {
    "tags": []
   },
   "outputs": [],
   "source": [
    "df[(df['Email']=='')&(df['Street Address']=='')&(df['Phone Number']=='')]#.to_excel(file_path+'\\\\Contacts without street address, email or phone number.xlsx',index=False)"
   ]
  },
  {
   "cell_type": "code",
   "execution_count": 49,
   "id": "a32a8739",
   "metadata": {},
   "outputs": [],
   "source": [
    "duplicates_to_review = duplicates_frame[['Record ID', 'First Name', 'Last Name',\n",
    "                                         'Phone Number', 'Email', 'original mail',\n",
    "                                         'Create Date','Last Activity Date',\n",
    "                                         ]]"
   ]
  },
  {
   "cell_type": "code",
   "execution_count": 50,
   "id": "f613a11f",
   "metadata": {},
   "outputs": [],
   "source": [
    "duplicates_to_review.to_excel(file_path+r'\\Duplicate Contact Records Found.xlsx',index=False)"
   ]
  },
  {
   "cell_type": "code",
   "execution_count": null,
   "id": "7080042e",
   "metadata": {},
   "outputs": [],
   "source": []
  }
 ],
 "metadata": {
  "kernelspec": {
   "display_name": "Python 3",
   "language": "python",
   "name": "python3"
  },
  "language_info": {
   "codemirror_mode": {
    "name": "ipython",
    "version": 3
   },
   "file_extension": ".py",
   "mimetype": "text/x-python",
   "name": "python",
   "nbconvert_exporter": "python",
   "pygments_lexer": "ipython3",
   "version": "3.13.1"
  }
 },
 "nbformat": 4,
 "nbformat_minor": 5
}
