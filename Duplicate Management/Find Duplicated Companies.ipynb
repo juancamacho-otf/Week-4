{
 "cells": [
  {
   "cell_type": "markdown",
   "id": "f9b4e239-1097-40a6-9ed7-aa18d1de9494",
   "metadata": {},
   "source": [
    "# Set environment variables"
   ]
  },
  {
   "cell_type": "code",
   "execution_count": 1,
   "id": "51fdc60d-4806-4f53-af39-4c5587e8edc1",
   "metadata": {
    "tags": []
   },
   "outputs": [],
   "source": [
    "import os\n",
    "\n",
    "os.environ[\"path\"] = r'C:\\Users\\Admin\\Documents\\Github\\PyDev-Operational-Library-For-Data-Engineers'\n",
    "\n",
    "\n",
    "os.environ[\"records_folder\"] = r'C:\\Users\\Admin\\Documents\\Sketch ai'\n",
    "os.environ[\"df_file_name\"] = 'export-companies.csv'\n",
    "\n",
    "os.environ[\"account_id\"] = '20025332'\n",
    "os.environ[\"add_hubspot_records_view\"] = 'Yes'\n",
    "\n",
    "# It is not necessary to fill in all of the following fields\n",
    "os.environ[\"company_name_column_name\"] = 'Company name'\n",
    "os.environ[\"phone_number_column_name\"] = 'Phone Number' # could be empty ''\n",
    "os.environ[\"street_address_column_name\"] = 'Street Address' # could be empty ''\n",
    "os.environ[\"list_of_columns\"] = ''#'Company Domain Name' # could be empty '' or several properties separed with a ; 'Company Domain;Phone Number'"
   ]
  },
  {
   "cell_type": "markdown",
   "id": "f14a4a6e-ba78-4e8a-90d2-cd5cf755a4bb",
   "metadata": {},
   "source": [
    "# Libraries"
   ]
  },
  {
   "cell_type": "markdown",
   "id": "6e373f38-97dd-444c-b91e-7c9a0f6f17b7",
   "metadata": {},
   "source": [
    "### Python Libraries"
   ]
  },
  {
   "cell_type": "code",
   "execution_count": 2,
   "id": "f07c0777-81e2-4efa-95cd-ec177e044ec0",
   "metadata": {
    "tags": []
   },
   "outputs": [],
   "source": [
    "import pandas as pd\n",
    "import numpy as np"
   ]
  },
  {
   "cell_type": "markdown",
   "id": "e53c0b73-eb1b-4115-bc56-4bdc87957702",
   "metadata": {},
   "source": [
    "### Data Team Libraries"
   ]
  },
  {
   "cell_type": "markdown",
   "id": "36f97f99-099c-4544-a18c-fc375df058bd",
   "metadata": {},
   "source": [
    "Add your \"Operational-Library-For-Data-Engineers\" Repository Path _**(path: str)**_ folder where you have saved your repository copy."
   ]
  },
  {
   "cell_type": "code",
   "execution_count": 3,
   "id": "84d1e4b8-0565-4b81-928e-2e49a319468e",
   "metadata": {
    "tags": []
   },
   "outputs": [],
   "source": [
    "path = os.getenv('path')"
   ]
  },
  {
   "cell_type": "code",
   "execution_count": 4,
   "id": "a912c9f0-cdd8-41d5-bb8a-d561b48ae732",
   "metadata": {
    "tags": []
   },
   "outputs": [],
   "source": [
    "import sys\n",
    "sys.path.insert(0,path)"
   ]
  },
  {
   "cell_type": "code",
   "execution_count": 5,
   "id": "1bd6491a-75b1-4917-8be3-d5c3e10a3eba",
   "metadata": {
    "tags": []
   },
   "outputs": [],
   "source": [
    "from functions.manage_duplicates.find_duplicate_companies_by_specified_fields import find_duplicate_companies_by_specified_fields\n",
    "from functions.data_transformations.delete_unnecessary_blank_spaces import delete_unnecessary_blank_spaces\n",
    "from functions.manage_duplicates.standardize_data.standarize_company_name import standarize_company_name"
   ]
  },
  {
   "cell_type": "markdown",
   "id": "78620bff-9474-4d74-9431-f4c8bdcf6d0d",
   "metadata": {
    "papermill": {
     "duration": 0.004003,
     "end_time": "2023-09-18T02:52:21.638811",
     "exception": false,
     "start_time": "2023-09-18T02:52:21.634808",
     "status": "completed"
    },
    "tags": []
   },
   "source": [
    "# Proyect Folders"
   ]
  },
  {
   "cell_type": "markdown",
   "id": "ba68c3f0-9a6d-4b32-a86d-0f6da6f1d9ca",
   "metadata": {
    "papermill": {
     "duration": 0.005002,
     "end_time": "2023-09-18T02:52:21.648360",
     "exception": false,
     "start_time": "2023-09-18T02:52:21.643358",
     "status": "completed"
    },
    "tags": []
   },
   "source": [
    "**Records Folder** _**(records_folder: str)**_ Folder where data is saved."
   ]
  },
  {
   "cell_type": "code",
   "execution_count": 6,
   "id": "8d1580b8-701f-4cf3-8de4-3093f8fcd4b6",
   "metadata": {
    "papermill": {
     "duration": 0.024125,
     "end_time": "2023-09-18T02:52:21.676101",
     "exception": false,
     "start_time": "2023-09-18T02:52:21.651976",
     "status": "completed"
    },
    "tags": []
   },
   "outputs": [],
   "source": [
    "records_folder = os.getenv('records_folder')"
   ]
  },
  {
   "cell_type": "markdown",
   "id": "691ae074-60bb-4d87-bac0-d1cec51d57de",
   "metadata": {
    "papermill": {
     "duration": 0.004,
     "end_time": "2023-09-18T02:52:21.779492",
     "exception": false,
     "start_time": "2023-09-18T02:52:21.775492",
     "status": "completed"
    },
    "tags": []
   },
   "source": [
    "# Read DataFrame"
   ]
  },
  {
   "cell_type": "markdown",
   "id": "ccb0630a-7ce9-4e0f-9a5d-e6493cbfa27e",
   "metadata": {
    "papermill": {
     "duration": 0.004997,
     "end_time": "2023-09-18T02:52:21.790005",
     "exception": false,
     "start_time": "2023-09-18T02:52:21.785008",
     "status": "completed"
    },
    "tags": []
   },
   "source": [
    "**DataFrame File Name** _**(df_file_name: str)**_ Name of the file to read, should be a csv file type."
   ]
  },
  {
   "cell_type": "code",
   "execution_count": 7,
   "id": "d66e2f4c-fa61-45bc-b8c6-e79e53f8879e",
   "metadata": {
    "papermill": {
     "duration": 0.024539,
     "end_time": "2023-09-18T02:52:21.819057",
     "exception": false,
     "start_time": "2023-09-18T02:52:21.794518",
     "status": "completed"
    },
    "tags": []
   },
   "outputs": [],
   "source": [
    "df_file_name = os.getenv('df_file_name')"
   ]
  },
  {
   "cell_type": "markdown",
   "id": "ea09b26d-53d8-4b5a-b61e-c7d2db27a879",
   "metadata": {
    "papermill": {
     "duration": 0.003996,
     "end_time": "2023-09-18T02:52:21.828670",
     "exception": false,
     "start_time": "2023-09-18T02:52:21.824674",
     "status": "completed"
    },
    "tags": []
   },
   "source": [
    "**Read your csv file**"
   ]
  },
  {
   "cell_type": "code",
   "execution_count": 8,
   "id": "6286423b-7d94-4fde-8cd4-2c78214b553d",
   "metadata": {
    "papermill": {
     "duration": 1.10573,
     "end_time": "2023-09-18T02:52:22.946412",
     "exception": false,
     "start_time": "2023-09-18T02:52:21.840682",
     "status": "completed"
    },
    "tags": []
   },
   "outputs": [],
   "source": [
    "df = pd.read_csv(records_folder+'\\\\'+df_file_name, low_memory=False)"
   ]
  },
  {
   "cell_type": "code",
   "execution_count": 9,
   "id": "cf7562d4-c142-41f2-b086-238ea5efc0c4",
   "metadata": {
    "papermill": {
     "duration": 0.042013,
     "end_time": "2023-09-18T02:52:22.992993",
     "exception": false,
     "start_time": "2023-09-18T02:52:22.950980",
     "status": "completed"
    },
    "tags": []
   },
   "outputs": [
    {
     "data": {
      "text/html": [
       "<div>\n",
       "<style scoped>\n",
       "    .dataframe tbody tr th:only-of-type {\n",
       "        vertical-align: middle;\n",
       "    }\n",
       "\n",
       "    .dataframe tbody tr th {\n",
       "        vertical-align: top;\n",
       "    }\n",
       "\n",
       "    .dataframe thead th {\n",
       "        text-align: right;\n",
       "    }\n",
       "</style>\n",
       "<table border=\"1\" class=\"dataframe\">\n",
       "  <thead>\n",
       "    <tr style=\"text-align: right;\">\n",
       "      <th></th>\n",
       "      <th>Record ID</th>\n",
       "      <th>Company name</th>\n",
       "      <th>Company Domain Name</th>\n",
       "      <th>Phone Number</th>\n",
       "      <th>Street Address</th>\n",
       "    </tr>\n",
       "  </thead>\n",
       "  <tbody>\n",
       "    <tr>\n",
       "      <th>0</th>\n",
       "      <td>27927988238</td>\n",
       "      <td>Black Iron Metalwork</td>\n",
       "      <td>blackironmetalwork.com</td>\n",
       "      <td>+1 405-760-5190</td>\n",
       "      <td>1901 Northeast 10th Street</td>\n",
       "    </tr>\n",
       "    <tr>\n",
       "      <th>1</th>\n",
       "      <td>27921112398</td>\n",
       "      <td>markandson.net</td>\n",
       "      <td>markandson.net</td>\n",
       "      <td>NaN</td>\n",
       "      <td>NaN</td>\n",
       "    </tr>\n",
       "  </tbody>\n",
       "</table>\n",
       "</div>"
      ],
      "text/plain": [
       "     Record ID          Company name     Company Domain Name  \\\n",
       "0  27927988238  Black Iron Metalwork  blackironmetalwork.com   \n",
       "1  27921112398        markandson.net          markandson.net   \n",
       "\n",
       "       Phone Number              Street Address  \n",
       "0   +1 405-760-5190  1901 Northeast 10th Street  \n",
       "1               NaN                         NaN  "
      ]
     },
     "execution_count": 9,
     "metadata": {},
     "output_type": "execute_result"
    }
   ],
   "source": [
    "df.head(2)"
   ]
  },
  {
   "cell_type": "markdown",
   "id": "2c042a47-dbe0-47e2-ba38-b5dacaf05652",
   "metadata": {},
   "source": [
    "**Standarize empty spaces**"
   ]
  },
  {
   "cell_type": "code",
   "execution_count": 10,
   "id": "72f56042-6a99-44c1-8379-97c31d314f66",
   "metadata": {
    "tags": []
   },
   "outputs": [],
   "source": [
    "df = df.replace(np.nan, '')"
   ]
  },
  {
   "cell_type": "markdown",
   "id": "7dad1ac9-7efb-410d-be6f-806433741061",
   "metadata": {},
   "source": [
    "**Space to review keys**"
   ]
  },
  {
   "cell_type": "code",
   "execution_count": 11,
   "id": "806c7732-12f9-4d1e-a3d3-45d008118145",
   "metadata": {
    "tags": []
   },
   "outputs": [],
   "source": [
    "#list(df.keys())"
   ]
  },
  {
   "cell_type": "markdown",
   "id": "45e2a78a-8217-4c3e-b293-f441991ddbdb",
   "metadata": {},
   "source": [
    "# Find Duplicates"
   ]
  },
  {
   "cell_type": "code",
   "execution_count": 12,
   "id": "9ff0bf30-08f4-4c66-a369-878f5dd933cd",
   "metadata": {
    "tags": []
   },
   "outputs": [],
   "source": [
    "company_name_column_name = os.getenv('company_name_column_name')\n",
    "phone_number_column_name = os.getenv('phone_number_column_name')\n",
    "street_address_column_name = os.getenv('street_address_column_name')\n",
    "\n",
    "def setup_lists_of_columns():\n",
    "    list_of_columns = os.getenv('list_of_columns')\n",
    "    list_of_columns = list_of_columns.split(';')\n",
    "    if '' in list_of_columns:\n",
    "        list_of_columns.remove('')\n",
    "    return list_of_columns"
   ]
  },
  {
   "cell_type": "code",
   "execution_count": 13,
   "id": "bfce9483-9de8-4c22-a250-3072db776756",
   "metadata": {
    "tags": []
   },
   "outputs": [
    {
     "data": {
      "text/plain": [
       "[]"
      ]
     },
     "execution_count": 13,
     "metadata": {},
     "output_type": "execute_result"
    }
   ],
   "source": [
    "setup_lists_of_columns()"
   ]
  },
  {
   "cell_type": "code",
   "execution_count": 14,
   "id": "f3342510-b310-4bce-9e4e-a4db2291760b",
   "metadata": {
    "tags": []
   },
   "outputs": [],
   "source": [
    "street,no_duplicates_frame = find_duplicate_companies_by_specified_fields(frame_data = df, \n",
    "                                                                                     company_name_column_name = company_name_column_name,\n",
    "                                                                                     phone_number_column_name = '',\n",
    "                                                                                     street_address_column_name = street_address_column_name,\n",
    "                                                                                     list_of_columns = setup_lists_of_columns())"
   ]
  },
  {
   "cell_type": "code",
   "execution_count": 15,
   "id": "14ab4098-c0bd-4f7d-8d17-bbf4d4c77833",
   "metadata": {
    "tags": []
   },
   "outputs": [],
   "source": [
    "phone, no_duplicates_frame = find_duplicate_companies_by_specified_fields(frame_data = df, \n",
    "                                                                                     company_name_column_name = company_name_column_name,\n",
    "                                                                                     phone_number_column_name = phone_number_column_name,\n",
    "                                                                                     street_address_column_name = '',\n",
    "                                                                                     list_of_columns = setup_lists_of_columns())"
   ]
  },
  {
   "cell_type": "code",
   "execution_count": 16,
   "id": "d825ba30-2fd4-4a62-b6c5-2c49f425f4dd",
   "metadata": {
    "tags": []
   },
   "outputs": [],
   "source": [
    "both, no_duplicates_frame = find_duplicate_companies_by_specified_fields(frame_data = df, \n",
    "                                                                                     company_name_column_name = company_name_column_name,\n",
    "                                                                                     phone_number_column_name = phone_number_column_name,\n",
    "                                                                                     street_address_column_name = street_address_column_name,\n",
    "                                                                                     list_of_columns = setup_lists_of_columns())"
   ]
  },
  {
   "cell_type": "markdown",
   "id": "4e0ed25c-f38b-4dfa-b118-fd5d5a87ae34",
   "metadata": {},
   "source": [
    "# Add HubSpot Records View and Save Duplicates Frame"
   ]
  },
  {
   "cell_type": "code",
   "execution_count": 17,
   "id": "04c5c322-dcd5-4073-97bf-8a49509c4185",
   "metadata": {
    "tags": []
   },
   "outputs": [],
   "source": [
    "def link_to_view_record(record_id):\n",
    "    \n",
    "    account_id = os.getenv('account_id') ## Change this according your account\n",
    "    record_id = str(int(record_id))\n",
    "    \n",
    "    record_view = 'https://app.hubspot.com/contacts/{}/record/0-2/{}'.format(account_id, record_id)\n",
    "    \n",
    "    return record_view"
   ]
  },
  {
   "cell_type": "code",
   "execution_count": 18,
   "id": "718540a9-8a4c-4bb5-9732-06f7367c591b",
   "metadata": {
    "tags": []
   },
   "outputs": [],
   "source": [
    "add_hubspot_records_view = os.getenv('add_hubspot_records_view')"
   ]
  },
  {
   "cell_type": "code",
   "execution_count": 19,
   "id": "98b53c8b-dbf0-4fe8-a564-07c9a626ab17",
   "metadata": {
    "tags": []
   },
   "outputs": [],
   "source": [
    "names = ['Street Address','Phone Number', 'Street Address and Phone Number']"
   ]
  },
  {
   "cell_type": "code",
   "execution_count": 20,
   "id": "56a9618c-48ee-44c7-997b-fb39f4476dd2",
   "metadata": {
    "tags": []
   },
   "outputs": [
    {
     "name": "stdout",
     "output_type": "stream",
     "text": [
      "12 Duplicated Records Found\n",
      "0 Duplicated Records Found\n",
      "0 Duplicated Records Found\n"
     ]
    }
   ],
   "source": [
    "for dataframe, name in zip([street, phone, both],names):\n",
    "    if add_hubspot_records_view == 'Yes':\n",
    "        dataframe['Record View'] = dataframe['Record ID'].apply(link_to_view_record)\n",
    "    else:\n",
    "        pass\n",
    "\n",
    "    dataframe = dataframe[['Record ID', 'Company name', 'Company Domain Name', 'Phone Number', 'Street Address', 'Record View', 'Key']]\n",
    "\n",
    "    dataframe.to_excel(records_folder+r'\\Duplicate Company Records Found by {}.xlsx'.format(name))\n",
    "\n",
    "    print(len(dataframe), 'Duplicated Records Found')"
   ]
  },
  {
   "cell_type": "markdown",
   "id": "46b452bf-01b1-462c-9a29-70cf1add4923",
   "metadata": {},
   "source": [
    "# Webiste Urls"
   ]
  },
  {
   "cell_type": "markdown",
   "id": "a350272c-edeb-46ef-afdc-729a6d5f2638",
   "metadata": {},
   "source": [
    "### (In theory it's an unique identifier in hubspot but there are ways around this, in some cases companies have the same company domain name but should be treated differently but the client, eg different sites, divisions...)"
   ]
  },
  {
   "cell_type": "code",
   "execution_count": 27,
   "id": "fbf660ba-646f-4738-9a7a-db0c34dbff2e",
   "metadata": {
    "tags": []
   },
   "outputs": [],
   "source": [
    "df[(df.duplicated(subset='Company Domain Name', keep=False))&(df['Company Domain Name']!='')].sort_values('Company Domain Name')[['Record ID', 'Company name', 'Company Domain Name', 'Phone Number', 'Street Address','Company Domain Name']].to_excel(records_folder+'\\Companies with duplicate domain names.xlsx',index=False)"
   ]
  },
  {
   "cell_type": "code",
   "execution_count": 37,
   "id": "f2e6e282-7dee-40a0-b39e-6ffdfe50bb9a",
   "metadata": {
    "tags": []
   },
   "outputs": [],
   "source": [
    "df[df['Company name'].apply(standarize_company_name).duplicated(keep=False)][['Record ID', 'Company name', 'Company Domain Name', 'Phone Number', 'Street Address','Company Domain Name']].sort_values('Company name').to_excel(records_folder+'\\Companies with duplicate names.xlsx',index=False)"
   ]
  },
  {
   "cell_type": "code",
   "execution_count": 44,
   "id": "ffba487e-3e5a-4a07-963c-13513a8bb41b",
   "metadata": {
    "tags": []
   },
   "outputs": [
    {
     "data": {
      "text/plain": [
       "Industry\n",
       "Construction                            685\n",
       "Facilities Services                      19\n",
       "Airlines/Aviation                        11\n",
       "Consumer Services                         8\n",
       "Utilities                                 4\n",
       "Oil & Energy                              3\n",
       "Mining & Metals                           3\n",
       "Mechanical or Industrial Engineering      3\n",
       "Real Estate                               2\n",
       "Building Materials                        2\n",
       "Electrical/Electronic Manufacturing       2\n",
       "Logistics and Supply Chain                1\n",
       "Transportation/Trucking/Railroad          1\n",
       "Consumer Electronics                      1\n",
       "Architecture & Planning                   1\n",
       "Security and Investigations               1\n",
       "Financial Services                        1\n",
       "Chemicals                                 1\n",
       "Consumer Goods                            1\n",
       "Name: count, dtype: int64"
      ]
     },
     "execution_count": 44,
     "metadata": {},
     "output_type": "execute_result"
    }
   ],
   "source": [
    "df['Industry'].value_counts()"
   ]
  },
  {
   "cell_type": "code",
   "execution_count": 23,
   "id": "ef4f16a3-18db-4bd3-994b-f3f4ef283143",
   "metadata": {
    "tags": []
   },
   "outputs": [
    {
     "name": "stdout",
     "output_type": "stream",
     "text": [
      "Record ID\n",
      "About Us\n",
      "Annual Revenue\n",
      "Campaign of last booking in meetings tool\n",
      "City\n",
      "Close Date\n",
      "Company Domain Name\n",
      "Company Keywords\n",
      "Company name\n",
      "Company owner\n",
      "Country/Region\n",
      "Country/Region Code\n",
      "Create Date\n",
      "Created by user ID\n",
      "Date of last meeting booked in meetings tool\n",
      "Days to Close\n",
      "Description\n",
      "Employee range\n",
      "Facebook Company Page\n",
      "Facebook Fans\n",
      "First Contact Create Date\n",
      "First Conversion\n",
      "First Conversion Date\n",
      "First Deal Created Date\n",
      "First Touch Converting Campaign\n",
      "Google Plus Page\n",
      "Has been enriched\n",
      "HubSpot Team\n",
      "Ideal Customer Profile Tier\n",
      "Industry\n",
      "Industry group\n",
      "Is Public\n",
      "Last Activity Date\n",
      "Last Aircall SMS direction\n",
      "Last Aircall SMS timestamp\n",
      "Last Booked Meeting Date\n",
      "Last Contacted\n",
      "Last Engagement Date\n",
      "Last Logged Call Date\n",
      "Last Modified Date\n",
      "Last Open Task Date\n",
      "Last Touch Converting Campaign\n",
      "Latest Traffic Source\n",
      "Latest Traffic Source Data 1\n",
      "Latest Traffic Source Data 2\n",
      "Latest Traffic Source Timestamp\n",
      "Lead Status\n",
      "Lifecycle Stage\n",
      "Likelihood to close\n",
      "LinkedIn Bio\n",
      "LinkedIn Company Page\n",
      "Linkedin handle\n",
      "Logo URL\n",
      "Medium of last booking in meetings tool\n",
      "Merged Company IDs\n",
      "Next Activity Date\n",
      "Number of Associated Contacts\n",
      "Number of Associated Deals\n",
      "Number of blockers\n",
      "Number of child companies\n",
      "Number of contacts with a buying role\n",
      "Number of decision makers\n",
      "Number of Employees\n",
      "Number of Form Submissions\n",
      "Number of open deals\n",
      "Number of Pageviews\n",
      "Number of Sessions\n",
      "Number of times contacted\n",
      "Original Traffic Source\n",
      "Original Traffic Source Drill-Down 1\n",
      "Original Traffic Source Drill-Down 2\n",
      "Owner assigned date\n",
      "Parent Company\n",
      "Phone Number\n",
      "Postal Code\n",
      "Recent Conversion\n",
      "Recent Conversion Date\n",
      "Recent Deal Amount\n",
      "Recent Deal Close Date\n",
      "Record source\n",
      "Record source detail 1\n",
      "Record source detail 2\n",
      "Record source detail 3\n",
      "Revenue range\n",
      "Shared teams\n",
      "Shared users\n",
      "Source of last booking in meetings tool\n",
      "State/Region\n",
      "Street Address\n",
      "Street Address 2\n",
      "Target Account\n",
      "Time First Seen\n",
      "Time Last Seen\n",
      "Time of First Session\n",
      "Time of Last Session\n",
      "Time Zone\n",
      "Total Money Raised\n",
      "Total open deal value\n",
      "Total Revenue\n",
      "Twitter Bio\n",
      "Twitter Followers\n",
      "Twitter Handle\n",
      "Type\n",
      "Updated by user ID\n",
      "Web Technologies\n",
      "Website URL\n",
      "Year Founded\n",
      "Additional Domains\n"
     ]
    }
   ],
   "source": [
    "print('\\n'.join(df.columns))"
   ]
  }
 ],
 "metadata": {
  "kernelspec": {
   "display_name": "Python 3 (ipykernel)",
   "language": "python",
   "name": "python3"
  },
  "language_info": {
   "codemirror_mode": {
    "name": "ipython",
    "version": 3
   },
   "file_extension": ".py",
   "mimetype": "text/x-python",
   "name": "python",
   "nbconvert_exporter": "python",
   "pygments_lexer": "ipython3",
   "version": "3.11.5"
  }
 },
 "nbformat": 4,
 "nbformat_minor": 5
}
